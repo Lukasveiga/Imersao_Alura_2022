{
 "cells": [
  {
   "cell_type": "markdown",
   "metadata": {},
   "source": [
    "## **Imersão Dados 4ª edição**\n",
    "\n",
    "*Aluno:* <br>\n",
    "* Lukas Barbosa Veiga de Melo, 25;\n",
    "* Engenheiro Ambiental;\n",
    "* Mestrando em Desenvolvimento e Meio Ambiente, UFPB.\n",
    "<br>\n",
    "<br>\n",
    "\n",
    "**[LinkedIn](www.linkedin.com/in/lukas-veiga-79371b20a\n",
    ")** <br>\n",
    "**[GitHub](https://github.com/Lukasveiga)**"
   ]
  },
  {
   "cell_type": "markdown",
   "metadata": {},
   "source": [
    "## **Dataset: House price data of São Paulo (Adaptado)**\n",
    "\n",
    "*Variáveis:*\n",
    "\n",
    "* Rua - Localização da Rua onde a casa pertence;\n",
    "* Bairro - Localização do Bairro onde a casa pertence\n",
    "* Cidade - Cidade onde a Casa está localizada;\n",
    "* Metragem - Área da casa em metros quadrados;\n",
    "* Quartos - Número de quartos na casa;\n",
    "* Banheiros - Número de banheiros na casa;\n",
    "* Vagas - Número de vagas na garagem;\n",
    "* Valor - Preço da casa que está em moeda brasileira BRL;\n",
    "<br>\n",
    "\n",
    "**Fonte(Original):** https://www.kaggle.com/datasets/kaggleshashankk/house-price-data-of-sao-paulo <br>\n",
    "**Fonte(Adaptado):** https://gist.github.com/tgcsantos/3bdb29eba6ce391e90df2b72205ba891"
   ]
  },
  {
   "cell_type": "code",
   "execution_count": 2,
   "metadata": {},
   "outputs": [],
   "source": [
    "# Bibliotecas básicas\n",
    "import numpy as np\n",
    "import pandas as pd\n",
    "\n",
    "## Configuracões pandas\n",
    "pd.set_option('display.precision', 2)\n",
    "pd.set_option('display.float_format', lambda x: '%.2f' % x)\n",
    "\n",
    "# Bibliotecas de Visualização\n",
    "import seaborn as sns\n",
    "import plotly.express as px\n",
    "import matplotlib.pyplot as plt\n",
    "\n",
    "## Configurações de Visualização\n",
    "sns.set_style('darkgrid')\n",
    "sns.set_context('paper', font_scale= 1.2)\n",
    "\n",
    "# Visualização de dados faltantes\n",
    "import missingno as msno"
   ]
  },
  {
   "cell_type": "code",
   "execution_count": 3,
   "metadata": {},
   "outputs": [
    {
     "name": "stdout",
     "output_type": "stream",
     "text": [
      "(10008, 8)\n"
     ]
    },
    {
     "data": {
      "text/html": [
       "<div>\n",
       "<style scoped>\n",
       "    .dataframe tbody tr th:only-of-type {\n",
       "        vertical-align: middle;\n",
       "    }\n",
       "\n",
       "    .dataframe tbody tr th {\n",
       "        vertical-align: top;\n",
       "    }\n",
       "\n",
       "    .dataframe thead th {\n",
       "        text-align: right;\n",
       "    }\n",
       "</style>\n",
       "<table border=\"1\" class=\"dataframe\">\n",
       "  <thead>\n",
       "    <tr style=\"text-align: right;\">\n",
       "      <th></th>\n",
       "      <th>Rua</th>\n",
       "      <th>Bairro</th>\n",
       "      <th>Cidade</th>\n",
       "      <th>Metragem</th>\n",
       "      <th>Quartos</th>\n",
       "      <th>Banheiros</th>\n",
       "      <th>Vagas</th>\n",
       "      <th>Valor</th>\n",
       "    </tr>\n",
       "  </thead>\n",
       "  <tbody>\n",
       "    <tr>\n",
       "      <th>0</th>\n",
       "      <td>Avenida Itacira, 255</td>\n",
       "      <td>Planalto Paulista</td>\n",
       "      <td>São Paulo</td>\n",
       "      <td>1000</td>\n",
       "      <td>4</td>\n",
       "      <td>8</td>\n",
       "      <td>6</td>\n",
       "      <td>R$ 7.000.000</td>\n",
       "    </tr>\n",
       "    <tr>\n",
       "      <th>1</th>\n",
       "      <td>Rua Aurelia Perez Alvarez, 42</td>\n",
       "      <td>Jardim dos Estados</td>\n",
       "      <td>São Paulo</td>\n",
       "      <td>496</td>\n",
       "      <td>4</td>\n",
       "      <td>4</td>\n",
       "      <td>4</td>\n",
       "      <td>R$ 3.700.000</td>\n",
       "    </tr>\n",
       "    <tr>\n",
       "      <th>2</th>\n",
       "      <td>Rua Alba Valdez</td>\n",
       "      <td>Jardim Reimberg</td>\n",
       "      <td>São Paulo</td>\n",
       "      <td>125</td>\n",
       "      <td>4</td>\n",
       "      <td>3</td>\n",
       "      <td>2</td>\n",
       "      <td>R$ 380.000</td>\n",
       "    </tr>\n",
       "    <tr>\n",
       "      <th>3</th>\n",
       "      <td>NaN</td>\n",
       "      <td>Jardim Morumbi</td>\n",
       "      <td>São Paulo</td>\n",
       "      <td>310</td>\n",
       "      <td>3</td>\n",
       "      <td>2</td>\n",
       "      <td>4</td>\n",
       "      <td>R$ 685.000</td>\n",
       "    </tr>\n",
       "    <tr>\n",
       "      <th>4</th>\n",
       "      <td>Rua Tobias Barreto, 195</td>\n",
       "      <td>Mooca</td>\n",
       "      <td>São Paulo</td>\n",
       "      <td>100</td>\n",
       "      <td>3</td>\n",
       "      <td>2</td>\n",
       "      <td>2</td>\n",
       "      <td>R$ 540.000</td>\n",
       "    </tr>\n",
       "    <tr>\n",
       "      <th>5</th>\n",
       "      <td>Rua Graham Bell</td>\n",
       "      <td>Santo Amaro</td>\n",
       "      <td>São Paulo</td>\n",
       "      <td>440</td>\n",
       "      <td>4</td>\n",
       "      <td>4</td>\n",
       "      <td>6</td>\n",
       "      <td>R$ 1.980.000</td>\n",
       "    </tr>\n",
       "    <tr>\n",
       "      <th>6</th>\n",
       "      <td>Rua Francisco Paulo, 31</td>\n",
       "      <td>Cidade Mãe do Céu</td>\n",
       "      <td>São Paulo</td>\n",
       "      <td>145</td>\n",
       "      <td>4</td>\n",
       "      <td>4</td>\n",
       "      <td>2</td>\n",
       "      <td>R$ 850.000</td>\n",
       "    </tr>\n",
       "    <tr>\n",
       "      <th>7</th>\n",
       "      <td>Rua Guilherme Valente, 150</td>\n",
       "      <td>Jardim Vergueiro</td>\n",
       "      <td>São Paulo</td>\n",
       "      <td>150</td>\n",
       "      <td>2</td>\n",
       "      <td>2</td>\n",
       "      <td>2</td>\n",
       "      <td>R$ 450.000</td>\n",
       "    </tr>\n",
       "    <tr>\n",
       "      <th>8</th>\n",
       "      <td>Rua Sagrada Família, 8</td>\n",
       "      <td>Jardim Benfica</td>\n",
       "      <td>São Paulo</td>\n",
       "      <td>48</td>\n",
       "      <td>2</td>\n",
       "      <td>1</td>\n",
       "      <td>1</td>\n",
       "      <td>R$ 199.900</td>\n",
       "    </tr>\n",
       "    <tr>\n",
       "      <th>9</th>\n",
       "      <td>Rua Tapaji</td>\n",
       "      <td>Vila Alpina</td>\n",
       "      <td>São Paulo</td>\n",
       "      <td>114</td>\n",
       "      <td>3</td>\n",
       "      <td>3</td>\n",
       "      <td>2</td>\n",
       "      <td>R$ 585.000</td>\n",
       "    </tr>\n",
       "  </tbody>\n",
       "</table>\n",
       "</div>"
      ],
      "text/plain": [
       "                              Rua              Bairro     Cidade  Metragem  \\\n",
       "0           Avenida Itacira, 255    Planalto Paulista  São Paulo      1000   \n",
       "1  Rua Aurelia Perez Alvarez, 42   Jardim dos Estados  São Paulo       496   \n",
       "2                 Rua Alba Valdez     Jardim Reimberg  São Paulo       125   \n",
       "3                             NaN      Jardim Morumbi  São Paulo       310   \n",
       "4        Rua Tobias Barreto, 195                Mooca  São Paulo       100   \n",
       "5                 Rua Graham Bell         Santo Amaro  São Paulo       440   \n",
       "6        Rua Francisco Paulo, 31    Cidade Mãe do Céu  São Paulo       145   \n",
       "7     Rua Guilherme Valente, 150     Jardim Vergueiro  São Paulo       150   \n",
       "8         Rua Sagrada Família, 8       Jardim Benfica  São Paulo        48   \n",
       "9                      Rua Tapaji         Vila Alpina  São Paulo       114   \n",
       "\n",
       "   Quartos  Banheiros  Vagas         Valor  \n",
       "0        4          8      6  R$ 7.000.000  \n",
       "1        4          4      4  R$ 3.700.000  \n",
       "2        4          3      2    R$ 380.000  \n",
       "3        3          2      4    R$ 685.000  \n",
       "4        3          2      2    R$ 540.000  \n",
       "5        4          4      6  R$ 1.980.000  \n",
       "6        4          4      2    R$ 850.000  \n",
       "7        2          2      2    R$ 450.000  \n",
       "8        2          1      1    R$ 199.900  \n",
       "9        3          3      2    R$ 585.000  "
      ]
     },
     "execution_count": 3,
     "metadata": {},
     "output_type": "execute_result"
    }
   ],
   "source": [
    "# Importação do banco de dados\n",
    "path = 'https://gist.githubusercontent.com/tgcsantos/3bdb29eba6ce391e90df2b72205ba891/raw/22fa920e80c9fa209a9fccc8b52d74cc95d1599b/dados_imoveis.csv'\n",
    "data = pd.read_csv(path)\n",
    "\n",
    "# Primeiras linhas e formato do banco de dados (shape)\n",
    "print(data.shape)\n",
    "data.head(10)"
   ]
  },
  {
   "cell_type": "markdown",
   "metadata": {},
   "source": [
    "### **1.Sanity Check and Data Filtering**"
   ]
  },
  {
   "cell_type": "code",
   "execution_count": 4,
   "metadata": {},
   "outputs": [
    {
     "name": "stdout",
     "output_type": "stream",
     "text": [
      "<class 'pandas.core.frame.DataFrame'>\n",
      "RangeIndex: 10008 entries, 0 to 10007\n",
      "Data columns (total 8 columns):\n",
      " #   Column     Non-Null Count  Dtype \n",
      "---  ------     --------------  ----- \n",
      " 0   Rua        6574 non-null   object\n",
      " 1   Bairro     9996 non-null   object\n",
      " 2   Cidade     10008 non-null  object\n",
      " 3   Metragem   10008 non-null  int64 \n",
      " 4   Quartos    10008 non-null  int64 \n",
      " 5   Banheiros  10008 non-null  int64 \n",
      " 6   Vagas      10008 non-null  int64 \n",
      " 7   Valor      10008 non-null  object\n",
      "dtypes: int64(4), object(4)\n",
      "memory usage: 625.6+ KB\n"
     ]
    }
   ],
   "source": [
    "# Info\n",
    "data.info()"
   ]
  },
  {
   "cell_type": "markdown",
   "metadata": {},
   "source": [
    "**OBS:** Quando utilizamos a função `.info()` é possível verificar o tipo de dado para cada variável. Quando uma variável retorna o tipo como *objeto* é possível que exista algum erro ou valor faltante principalmente se para essa variável é esperado um tipo inteiro(int) ou flutuante(float), sendo necessário verificar mais a fundo essas variáveis."
   ]
  },
  {
   "cell_type": "code",
   "execution_count": 5,
   "metadata": {},
   "outputs": [
    {
     "data": {
      "text/plain": [
       "1266                             R$ 1.190.000\n",
       "356                              R$ 3.000.000\n",
       "704                              R$ 5.000.000\n",
       "2114                             R$ 2.750.000\n",
       "1002                             R$ 3.500.000\n",
       "1660                             R$ 3.200.000\n",
       "6419                               R$ 670.000\n",
       "4490                             R$ 3.200.000\n",
       "7428                             R$ 1.980.000\n",
       "2637    R$ 10.000\\n                      /Mês\n",
       "Name: Valor, dtype: object"
      ]
     },
     "execution_count": 5,
     "metadata": {},
     "output_type": "execute_result"
    }
   ],
   "source": [
    "# Verificando os dados da variável 'Valor'\n",
    "data['Valor'].sample(10)"
   ]
  },
  {
   "cell_type": "markdown",
   "metadata": {},
   "source": [
    "* Observando diferentes amostras da série 'Valor' é possível notar que existe valores referentes a um aluguel diário, mensal ou anual que difere do comportamento esperado de venda."
   ]
  },
  {
   "cell_type": "code",
   "execution_count": 6,
   "metadata": {},
   "outputs": [
    {
     "data": {
      "text/html": [
       "<div>\n",
       "<style scoped>\n",
       "    .dataframe tbody tr th:only-of-type {\n",
       "        vertical-align: middle;\n",
       "    }\n",
       "\n",
       "    .dataframe tbody tr th {\n",
       "        vertical-align: top;\n",
       "    }\n",
       "\n",
       "    .dataframe thead th {\n",
       "        text-align: right;\n",
       "    }\n",
       "</style>\n",
       "<table border=\"1\" class=\"dataframe\">\n",
       "  <thead>\n",
       "    <tr style=\"text-align: right;\">\n",
       "      <th></th>\n",
       "      <th>0</th>\n",
       "      <th>1</th>\n",
       "      <th>2</th>\n",
       "    </tr>\n",
       "  </thead>\n",
       "  <tbody>\n",
       "    <tr>\n",
       "      <th>0</th>\n",
       "      <td>R$</td>\n",
       "      <td>7.000.000</td>\n",
       "      <td>None</td>\n",
       "    </tr>\n",
       "    <tr>\n",
       "      <th>1</th>\n",
       "      <td>R$</td>\n",
       "      <td>3.700.000</td>\n",
       "      <td>None</td>\n",
       "    </tr>\n",
       "    <tr>\n",
       "      <th>2</th>\n",
       "      <td>R$</td>\n",
       "      <td>380.000</td>\n",
       "      <td>None</td>\n",
       "    </tr>\n",
       "    <tr>\n",
       "      <th>3</th>\n",
       "      <td>R$</td>\n",
       "      <td>685.000</td>\n",
       "      <td>None</td>\n",
       "    </tr>\n",
       "    <tr>\n",
       "      <th>4</th>\n",
       "      <td>R$</td>\n",
       "      <td>540.000</td>\n",
       "      <td>None</td>\n",
       "    </tr>\n",
       "    <tr>\n",
       "      <th>...</th>\n",
       "      <td>...</td>\n",
       "      <td>...</td>\n",
       "      <td>...</td>\n",
       "    </tr>\n",
       "    <tr>\n",
       "      <th>10003</th>\n",
       "      <td>R$</td>\n",
       "      <td>665.000</td>\n",
       "      <td>None</td>\n",
       "    </tr>\n",
       "    <tr>\n",
       "      <th>10004</th>\n",
       "      <td>R$</td>\n",
       "      <td>2.300.000</td>\n",
       "      <td>None</td>\n",
       "    </tr>\n",
       "    <tr>\n",
       "      <th>10005</th>\n",
       "      <td>R$</td>\n",
       "      <td>1.050.000</td>\n",
       "      <td>None</td>\n",
       "    </tr>\n",
       "    <tr>\n",
       "      <th>10006</th>\n",
       "      <td>R$</td>\n",
       "      <td>2.200</td>\n",
       "      <td>/Mês</td>\n",
       "    </tr>\n",
       "    <tr>\n",
       "      <th>10007</th>\n",
       "      <td>R$</td>\n",
       "      <td>270.000</td>\n",
       "      <td>None</td>\n",
       "    </tr>\n",
       "  </tbody>\n",
       "</table>\n",
       "<p>10008 rows × 3 columns</p>\n",
       "</div>"
      ],
      "text/plain": [
       "        0          1     2\n",
       "0      R$  7.000.000  None\n",
       "1      R$  3.700.000  None\n",
       "2      R$    380.000  None\n",
       "3      R$    685.000  None\n",
       "4      R$    540.000  None\n",
       "...    ..        ...   ...\n",
       "10003  R$    665.000  None\n",
       "10004  R$  2.300.000  None\n",
       "10005  R$  1.050.000  None\n",
       "10006  R$      2.200  /Mês\n",
       "10007  R$    270.000  None\n",
       "\n",
       "[10008 rows x 3 columns]"
      ]
     },
     "execution_count": 6,
     "metadata": {},
     "output_type": "execute_result"
    }
   ],
   "source": [
    "# Separando os dados da Série 'Valor' com a função split + expand\n",
    "valor_split = data['Valor'].str.split(expand = True)\n",
    "valor_split"
   ]
  },
  {
   "cell_type": "code",
   "execution_count": 7,
   "metadata": {},
   "outputs": [
    {
     "name": "stdout",
     "output_type": "stream",
     "text": [
      "['R$']\n",
      "['7.000.000' '3.700.000' '380.000' ... '553.000' '951.000' '2.200']\n",
      "[None '/Mês' '/Ano' '/Dia']\n"
     ]
    }
   ],
   "source": [
    "# Verificando os dados para cada coluna criada com o método split + expand\n",
    "for i in range(0,3):\n",
    "    print(valor_split[i].unique())"
   ]
  },
  {
   "cell_type": "code",
   "execution_count": 8,
   "metadata": {},
   "outputs": [
    {
     "data": {
      "text/html": [
       "<div>\n",
       "<style scoped>\n",
       "    .dataframe tbody tr th:only-of-type {\n",
       "        vertical-align: middle;\n",
       "    }\n",
       "\n",
       "    .dataframe tbody tr th {\n",
       "        vertical-align: top;\n",
       "    }\n",
       "\n",
       "    .dataframe thead th {\n",
       "        text-align: right;\n",
       "    }\n",
       "</style>\n",
       "<table border=\"1\" class=\"dataframe\">\n",
       "  <thead>\n",
       "    <tr style=\"text-align: right;\">\n",
       "      <th></th>\n",
       "      <th>Rua</th>\n",
       "      <th>Bairro</th>\n",
       "      <th>Cidade</th>\n",
       "      <th>Metragem</th>\n",
       "      <th>Quartos</th>\n",
       "      <th>Banheiros</th>\n",
       "      <th>Vagas</th>\n",
       "      <th>Valor</th>\n",
       "      <th>Moeda</th>\n",
       "      <th>Valor_anuncio</th>\n",
       "      <th>Tipo_anuncio</th>\n",
       "    </tr>\n",
       "  </thead>\n",
       "  <tbody>\n",
       "    <tr>\n",
       "      <th>0</th>\n",
       "      <td>Avenida Itacira, 255</td>\n",
       "      <td>Planalto Paulista</td>\n",
       "      <td>São Paulo</td>\n",
       "      <td>1000</td>\n",
       "      <td>4</td>\n",
       "      <td>8</td>\n",
       "      <td>6</td>\n",
       "      <td>R$ 7.000.000</td>\n",
       "      <td>R$</td>\n",
       "      <td>7.000.000</td>\n",
       "      <td>None</td>\n",
       "    </tr>\n",
       "    <tr>\n",
       "      <th>1</th>\n",
       "      <td>Rua Aurelia Perez Alvarez, 42</td>\n",
       "      <td>Jardim dos Estados</td>\n",
       "      <td>São Paulo</td>\n",
       "      <td>496</td>\n",
       "      <td>4</td>\n",
       "      <td>4</td>\n",
       "      <td>4</td>\n",
       "      <td>R$ 3.700.000</td>\n",
       "      <td>R$</td>\n",
       "      <td>3.700.000</td>\n",
       "      <td>None</td>\n",
       "    </tr>\n",
       "    <tr>\n",
       "      <th>2</th>\n",
       "      <td>Rua Alba Valdez</td>\n",
       "      <td>Jardim Reimberg</td>\n",
       "      <td>São Paulo</td>\n",
       "      <td>125</td>\n",
       "      <td>4</td>\n",
       "      <td>3</td>\n",
       "      <td>2</td>\n",
       "      <td>R$ 380.000</td>\n",
       "      <td>R$</td>\n",
       "      <td>380.000</td>\n",
       "      <td>None</td>\n",
       "    </tr>\n",
       "    <tr>\n",
       "      <th>3</th>\n",
       "      <td>NaN</td>\n",
       "      <td>Jardim Morumbi</td>\n",
       "      <td>São Paulo</td>\n",
       "      <td>310</td>\n",
       "      <td>3</td>\n",
       "      <td>2</td>\n",
       "      <td>4</td>\n",
       "      <td>R$ 685.000</td>\n",
       "      <td>R$</td>\n",
       "      <td>685.000</td>\n",
       "      <td>None</td>\n",
       "    </tr>\n",
       "    <tr>\n",
       "      <th>4</th>\n",
       "      <td>Rua Tobias Barreto, 195</td>\n",
       "      <td>Mooca</td>\n",
       "      <td>São Paulo</td>\n",
       "      <td>100</td>\n",
       "      <td>3</td>\n",
       "      <td>2</td>\n",
       "      <td>2</td>\n",
       "      <td>R$ 540.000</td>\n",
       "      <td>R$</td>\n",
       "      <td>540.000</td>\n",
       "      <td>None</td>\n",
       "    </tr>\n",
       "  </tbody>\n",
       "</table>\n",
       "</div>"
      ],
      "text/plain": [
       "                              Rua              Bairro     Cidade  Metragem  \\\n",
       "0           Avenida Itacira, 255    Planalto Paulista  São Paulo      1000   \n",
       "1  Rua Aurelia Perez Alvarez, 42   Jardim dos Estados  São Paulo       496   \n",
       "2                 Rua Alba Valdez     Jardim Reimberg  São Paulo       125   \n",
       "3                             NaN      Jardim Morumbi  São Paulo       310   \n",
       "4        Rua Tobias Barreto, 195                Mooca  São Paulo       100   \n",
       "\n",
       "   Quartos  Banheiros  Vagas         Valor Moeda Valor_anuncio Tipo_anuncio  \n",
       "0        4          8      6  R$ 7.000.000    R$     7.000.000         None  \n",
       "1        4          4      4  R$ 3.700.000    R$     3.700.000         None  \n",
       "2        4          3      2    R$ 380.000    R$       380.000         None  \n",
       "3        3          2      4    R$ 685.000    R$       685.000         None  \n",
       "4        3          2      2    R$ 540.000    R$       540.000         None  "
      ]
     },
     "execution_count": 8,
     "metadata": {},
     "output_type": "execute_result"
    }
   ],
   "source": [
    "# Atualizando o dataframe original com os novos valores separados\n",
    "data[['Moeda', 'Valor_anuncio', 'Tipo_anuncio']] = data['Valor'].str.split(expand = True)\n",
    "\n",
    "data.head()"
   ]
  },
  {
   "cell_type": "markdown",
   "metadata": {},
   "source": [
    "**OBS:** Como desejamos para esse projeto criar um modelo de regressão que faça a predição dos valores de vendas iremos filtrar os valores de aluguel."
   ]
  },
  {
   "cell_type": "code",
   "execution_count": 9,
   "metadata": {},
   "outputs": [
    {
     "name": "stdout",
     "output_type": "stream",
     "text": [
      "(9156, 8)\n"
     ]
    },
    {
     "data": {
      "text/html": [
       "<div>\n",
       "<style scoped>\n",
       "    .dataframe tbody tr th:only-of-type {\n",
       "        vertical-align: middle;\n",
       "    }\n",
       "\n",
       "    .dataframe tbody tr th {\n",
       "        vertical-align: top;\n",
       "    }\n",
       "\n",
       "    .dataframe thead th {\n",
       "        text-align: right;\n",
       "    }\n",
       "</style>\n",
       "<table border=\"1\" class=\"dataframe\">\n",
       "  <thead>\n",
       "    <tr style=\"text-align: right;\">\n",
       "      <th></th>\n",
       "      <th>Rua</th>\n",
       "      <th>Bairro</th>\n",
       "      <th>Cidade</th>\n",
       "      <th>Metragem</th>\n",
       "      <th>Quartos</th>\n",
       "      <th>Banheiros</th>\n",
       "      <th>Vagas</th>\n",
       "      <th>Valor_anuncio</th>\n",
       "    </tr>\n",
       "  </thead>\n",
       "  <tbody>\n",
       "    <tr>\n",
       "      <th>0</th>\n",
       "      <td>Avenida Itacira, 255</td>\n",
       "      <td>Planalto Paulista</td>\n",
       "      <td>São Paulo</td>\n",
       "      <td>1000</td>\n",
       "      <td>4</td>\n",
       "      <td>8</td>\n",
       "      <td>6</td>\n",
       "      <td>7.000.000</td>\n",
       "    </tr>\n",
       "    <tr>\n",
       "      <th>1</th>\n",
       "      <td>Rua Aurelia Perez Alvarez, 42</td>\n",
       "      <td>Jardim dos Estados</td>\n",
       "      <td>São Paulo</td>\n",
       "      <td>496</td>\n",
       "      <td>4</td>\n",
       "      <td>4</td>\n",
       "      <td>4</td>\n",
       "      <td>3.700.000</td>\n",
       "    </tr>\n",
       "    <tr>\n",
       "      <th>2</th>\n",
       "      <td>Rua Alba Valdez</td>\n",
       "      <td>Jardim Reimberg</td>\n",
       "      <td>São Paulo</td>\n",
       "      <td>125</td>\n",
       "      <td>4</td>\n",
       "      <td>3</td>\n",
       "      <td>2</td>\n",
       "      <td>380.000</td>\n",
       "    </tr>\n",
       "    <tr>\n",
       "      <th>3</th>\n",
       "      <td>NaN</td>\n",
       "      <td>Jardim Morumbi</td>\n",
       "      <td>São Paulo</td>\n",
       "      <td>310</td>\n",
       "      <td>3</td>\n",
       "      <td>2</td>\n",
       "      <td>4</td>\n",
       "      <td>685.000</td>\n",
       "    </tr>\n",
       "    <tr>\n",
       "      <th>4</th>\n",
       "      <td>Rua Tobias Barreto, 195</td>\n",
       "      <td>Mooca</td>\n",
       "      <td>São Paulo</td>\n",
       "      <td>100</td>\n",
       "      <td>3</td>\n",
       "      <td>2</td>\n",
       "      <td>2</td>\n",
       "      <td>540.000</td>\n",
       "    </tr>\n",
       "  </tbody>\n",
       "</table>\n",
       "</div>"
      ],
      "text/plain": [
       "                              Rua              Bairro     Cidade  Metragem  \\\n",
       "0           Avenida Itacira, 255    Planalto Paulista  São Paulo      1000   \n",
       "1  Rua Aurelia Perez Alvarez, 42   Jardim dos Estados  São Paulo       496   \n",
       "2                 Rua Alba Valdez     Jardim Reimberg  São Paulo       125   \n",
       "3                             NaN      Jardim Morumbi  São Paulo       310   \n",
       "4        Rua Tobias Barreto, 195                Mooca  São Paulo       100   \n",
       "\n",
       "   Quartos  Banheiros  Vagas Valor_anuncio  \n",
       "0        4          8      6     7.000.000  \n",
       "1        4          4      4     3.700.000  \n",
       "2        4          3      2       380.000  \n",
       "3        3          2      4       685.000  \n",
       "4        3          2      2       540.000  "
      ]
     },
     "execution_count": 9,
     "metadata": {},
     "output_type": "execute_result"
    }
   ],
   "source": [
    "# Novo dataframe com apenas os valores de venda dos imóveis\n",
    "data_vendas = data[data['Tipo_anuncio'].isnull()]\n",
    "\n",
    "# Também iremos remover as colunas 'Valor', 'Moeda' e 'Tipo_anuncio'\n",
    "data_vendas = data_vendas.drop(['Valor', 'Moeda', 'Tipo_anuncio'], axis = 1)\n",
    "\n",
    "print(data_vendas.shape)\n",
    "data_vendas.head()"
   ]
  },
  {
   "cell_type": "code",
   "execution_count": 10,
   "metadata": {},
   "outputs": [
    {
     "name": "stdout",
     "output_type": "stream",
     "text": [
      "<class 'pandas.core.frame.DataFrame'>\n",
      "Int64Index: 9156 entries, 0 to 10007\n",
      "Data columns (total 8 columns):\n",
      " #   Column         Non-Null Count  Dtype  \n",
      "---  ------         --------------  -----  \n",
      " 0   Rua            6107 non-null   object \n",
      " 1   Bairro         9146 non-null   object \n",
      " 2   Cidade         9156 non-null   object \n",
      " 3   Metragem       9156 non-null   int64  \n",
      " 4   Quartos        9156 non-null   int64  \n",
      " 5   Banheiros      9156 non-null   int64  \n",
      " 6   Vagas          9156 non-null   int64  \n",
      " 7   Valor_anuncio  9156 non-null   float64\n",
      "dtypes: float64(1), int64(4), object(3)\n",
      "memory usage: 643.8+ KB\n"
     ]
    },
    {
     "name": "stderr",
     "output_type": "stream",
     "text": [
      "/tmp/ipykernel_81884/712752553.py:2: FutureWarning: The default value of regex will change from True to False in a future version. In addition, single character regular expressions will *not* be treated as literal strings when regex=True.\n",
      "  data_vendas['Valor_anuncio'] = data_vendas['Valor_anuncio'].str.replace('.', '').astype('float')\n"
     ]
    }
   ],
   "source": [
    "# Transformando os dados da coluna 'Valor_anuncio' para o formato float\n",
    "data_vendas['Valor_anuncio'] = data_vendas['Valor_anuncio'].str.replace('.', '').astype('float')\n",
    "\n",
    "data_vendas.info()"
   ]
  },
  {
   "cell_type": "code",
   "execution_count": 11,
   "metadata": {},
   "outputs": [
    {
     "data": {
      "text/plain": [
       "Rua              3049\n",
       "Bairro             10\n",
       "Cidade              0\n",
       "Metragem            0\n",
       "Quartos             0\n",
       "Banheiros           0\n",
       "Vagas               0\n",
       "Valor_anuncio       0\n",
       "dtype: int64"
      ]
     },
     "execution_count": 11,
     "metadata": {},
     "output_type": "execute_result"
    }
   ],
   "source": [
    "# Verificando dados faltantes\n",
    "data_vendas.isnull().sum()"
   ]
  },
  {
   "cell_type": "code",
   "execution_count": 12,
   "metadata": {},
   "outputs": [
    {
     "data": {
      "text/plain": [
       "<AxesSubplot:>"
      ]
     },
     "execution_count": 12,
     "metadata": {},
     "output_type": "execute_result"
    },
    {
     "data": {
      "image/png": "[encoded data removed]",
      "text/plain": [
       "<Figure size 1800x720 with 2 Axes>"
      ]
     },
     "metadata": {
      "needs_background": "light"
     },
     "output_type": "display_data"
    }
   ],
   "source": [
    "# Matrix msno\n",
    "msno.matrix(data_vendas)"
   ]
  },
  {
   "cell_type": "code",
   "execution_count": 13,
   "metadata": {},
   "outputs": [
    {
     "data": {
      "text/html": [
       "<div>\n",
       "<style scoped>\n",
       "    .dataframe tbody tr th:only-of-type {\n",
       "        vertical-align: middle;\n",
       "    }\n",
       "\n",
       "    .dataframe tbody tr th {\n",
       "        vertical-align: top;\n",
       "    }\n",
       "\n",
       "    .dataframe thead th {\n",
       "        text-align: right;\n",
       "    }\n",
       "</style>\n",
       "<table border=\"1\" class=\"dataframe\">\n",
       "  <thead>\n",
       "    <tr style=\"text-align: right;\">\n",
       "      <th></th>\n",
       "      <th>Rua</th>\n",
       "      <th>Bairro</th>\n",
       "      <th>Cidade</th>\n",
       "      <th>Metragem</th>\n",
       "      <th>Quartos</th>\n",
       "      <th>Banheiros</th>\n",
       "      <th>Vagas</th>\n",
       "      <th>Valor_anuncio</th>\n",
       "    </tr>\n",
       "  </thead>\n",
       "  <tbody>\n",
       "    <tr>\n",
       "      <th>7956</th>\n",
       "      <td>Rua Vergueiro</td>\n",
       "      <td>NaN</td>\n",
       "      <td>São Paulo</td>\n",
       "      <td>103</td>\n",
       "      <td>3</td>\n",
       "      <td>2</td>\n",
       "      <td>2</td>\n",
       "      <td>640000.00</td>\n",
       "    </tr>\n",
       "    <tr>\n",
       "      <th>7996</th>\n",
       "      <td>Rua Alvorada do Sul, 3773</td>\n",
       "      <td>NaN</td>\n",
       "      <td>São Paulo</td>\n",
       "      <td>678</td>\n",
       "      <td>4</td>\n",
       "      <td>8</td>\n",
       "      <td>8</td>\n",
       "      <td>6895000.00</td>\n",
       "    </tr>\n",
       "    <tr>\n",
       "      <th>8126</th>\n",
       "      <td>Rua Professor Eduardo Monteiro, 3773</td>\n",
       "      <td>NaN</td>\n",
       "      <td>São Paulo</td>\n",
       "      <td>550</td>\n",
       "      <td>3</td>\n",
       "      <td>5</td>\n",
       "      <td>6</td>\n",
       "      <td>4000000.00</td>\n",
       "    </tr>\n",
       "    <tr>\n",
       "      <th>8566</th>\n",
       "      <td>Avenida Comendador Adibo Ares, 3773</td>\n",
       "      <td>NaN</td>\n",
       "      <td>São Paulo</td>\n",
       "      <td>694</td>\n",
       "      <td>4</td>\n",
       "      <td>6</td>\n",
       "      <td>6</td>\n",
       "      <td>3890000.00</td>\n",
       "    </tr>\n",
       "    <tr>\n",
       "      <th>8619</th>\n",
       "      <td>Rua Alvorada do Sul, 3773</td>\n",
       "      <td>NaN</td>\n",
       "      <td>São Paulo</td>\n",
       "      <td>683</td>\n",
       "      <td>4</td>\n",
       "      <td>8</td>\n",
       "      <td>8</td>\n",
       "      <td>6895000.00</td>\n",
       "    </tr>\n",
       "    <tr>\n",
       "      <th>8739</th>\n",
       "      <td>Rua Alvorada do Sul, 3773</td>\n",
       "      <td>NaN</td>\n",
       "      <td>São Paulo</td>\n",
       "      <td>683</td>\n",
       "      <td>4</td>\n",
       "      <td>8</td>\n",
       "      <td>8</td>\n",
       "      <td>6895000.00</td>\n",
       "    </tr>\n",
       "    <tr>\n",
       "      <th>8868</th>\n",
       "      <td>Rua Professor Eduardo Monteiro, 3773</td>\n",
       "      <td>NaN</td>\n",
       "      <td>São Paulo</td>\n",
       "      <td>555</td>\n",
       "      <td>3</td>\n",
       "      <td>5</td>\n",
       "      <td>6</td>\n",
       "      <td>4000000.00</td>\n",
       "    </tr>\n",
       "    <tr>\n",
       "      <th>8992</th>\n",
       "      <td>Rua Professor Eduardo Monteiro, 3773</td>\n",
       "      <td>NaN</td>\n",
       "      <td>São Paulo</td>\n",
       "      <td>555</td>\n",
       "      <td>3</td>\n",
       "      <td>5</td>\n",
       "      <td>6</td>\n",
       "      <td>4000000.00</td>\n",
       "    </tr>\n",
       "    <tr>\n",
       "      <th>9310</th>\n",
       "      <td>Rua Professor Lúcio Martins Rodrigues, 3773</td>\n",
       "      <td>NaN</td>\n",
       "      <td>São Paulo</td>\n",
       "      <td>358</td>\n",
       "      <td>4</td>\n",
       "      <td>6</td>\n",
       "      <td>7</td>\n",
       "      <td>1600000.00</td>\n",
       "    </tr>\n",
       "    <tr>\n",
       "      <th>9540</th>\n",
       "      <td>Rua Pacobá, 3773</td>\n",
       "      <td>NaN</td>\n",
       "      <td>São Paulo</td>\n",
       "      <td>1009</td>\n",
       "      <td>5</td>\n",
       "      <td>6</td>\n",
       "      <td>10</td>\n",
       "      <td>6400000.00</td>\n",
       "    </tr>\n",
       "  </tbody>\n",
       "</table>\n",
       "</div>"
      ],
      "text/plain": [
       "                                              Rua Bairro     Cidade  Metragem  \\\n",
       "7956                                Rua Vergueiro    NaN  São Paulo       103   \n",
       "7996                    Rua Alvorada do Sul, 3773    NaN  São Paulo       678   \n",
       "8126         Rua Professor Eduardo Monteiro, 3773    NaN  São Paulo       550   \n",
       "8566          Avenida Comendador Adibo Ares, 3773    NaN  São Paulo       694   \n",
       "8619                    Rua Alvorada do Sul, 3773    NaN  São Paulo       683   \n",
       "8739                    Rua Alvorada do Sul, 3773    NaN  São Paulo       683   \n",
       "8868         Rua Professor Eduardo Monteiro, 3773    NaN  São Paulo       555   \n",
       "8992         Rua Professor Eduardo Monteiro, 3773    NaN  São Paulo       555   \n",
       "9310  Rua Professor Lúcio Martins Rodrigues, 3773    NaN  São Paulo       358   \n",
       "9540                             Rua Pacobá, 3773    NaN  São Paulo      1009   \n",
       "\n",
       "      Quartos  Banheiros  Vagas  Valor_anuncio  \n",
       "7956        3          2      2      640000.00  \n",
       "7996        4          8      8     6895000.00  \n",
       "8126        3          5      6     4000000.00  \n",
       "8566        4          6      6     3890000.00  \n",
       "8619        4          8      8     6895000.00  \n",
       "8739        4          8      8     6895000.00  \n",
       "8868        3          5      6     4000000.00  \n",
       "8992        3          5      6     4000000.00  \n",
       "9310        4          6      7     1600000.00  \n",
       "9540        5          6     10     6400000.00  "
      ]
     },
     "execution_count": 13,
     "metadata": {},
     "output_type": "execute_result"
    }
   ],
   "source": [
    "# Ruas sem o nome do Bairro\n",
    "data_vendas[data_vendas['Bairro'].isnull()]"
   ]
  },
  {
   "cell_type": "code",
   "execution_count": 14,
   "metadata": {},
   "outputs": [
    {
     "data": {
      "image/png": "[encoded data removed]",
      "text/plain": [
       "<Figure size 1152x576 with 1 Axes>"
      ]
     },
     "metadata": {
      "needs_background": "light"
     },
     "output_type": "display_data"
    }
   ],
   "source": [
    "# Bairros sem o nome da rua, 60 maiores valores para melhor visualização\n",
    "(data_vendas[data_vendas['Rua'].isnull()]\n",
    " .value_counts('Bairro')[:60]\n",
    " .plot(kind = 'bar', figsize = (16,8)));"
   ]
  },
  {
   "cell_type": "markdown",
   "metadata": {},
   "source": [
    "### **2.Análise Explanatório dos Dados (EDA)**"
   ]
  },
  {
   "cell_type": "code",
   "execution_count": 15,
   "metadata": {},
   "outputs": [
    {
     "data": {
      "text/plain": [
       "<seaborn.axisgrid.PairGrid at 0x7fdaff14abb0>"
      ]
     },
     "execution_count": 15,
     "metadata": {},
     "output_type": "execute_result"
    },
    {
     "data": {
      "image/png": "[encoded data removed]",
      "text/plain": [
       "<Figure size 900x900 with 30 Axes>"
      ]
     },
     "metadata": {
      "needs_background": "light"
     },
     "output_type": "display_data"
    }
   ],
   "source": [
    "# Inicialmente utilizaremos a funcao 'pairplot' da biblioteca seaborn para visualizar de forma geral correlações entre variáveis e também a distribuição\n",
    "sns.pairplot(data_vendas)"
   ]
  },
  {
   "cell_type": "markdown",
   "metadata": {},
   "source": [
    "* A princípio não é possível observar nenhuma correlação positiva ou negativa que sejam relevantes, porém isso pode ser ocasionado pela presença de valores 'outliers' que acabam interferindo negativamente na análise de correlação entre as variáveis."
   ]
  },
  {
   "cell_type": "code",
   "execution_count": 16,
   "metadata": {},
   "outputs": [
    {
     "data": {
      "image/png": "[encoded data removed]",
      "text/plain": [
       "<Figure size 1296x288 with 5 Axes>"
      ]
     },
     "metadata": {
      "needs_background": "light"
     },
     "output_type": "display_data"
    }
   ],
   "source": [
    "# Analisando os valores outliers\n",
    "cols = ['Metragem', 'Quartos', 'Banheiros', 'Vagas', 'Valor_anuncio']\n",
    "ncols = len(cols)\n",
    "\n",
    "fig, axes = plt.subplots(1, ncols, figsize = (18, 4))\n",
    "\n",
    "for col, ax in zip(cols, axes.flatten()):\n",
    "    sns.boxplot(data = data_vendas, x = col, ax = ax)\n",
    "\n",
    "plt.tight_layout()"
   ]
  },
  {
   "cell_type": "markdown",
   "metadata": {},
   "source": [
    "* Observando os gráficos de boxplot é possível percerber os valores outliers, principalmente na variável 'Metragem'."
   ]
  },
  {
   "cell_type": "code",
   "execution_count": 17,
   "metadata": {},
   "outputs": [
    {
     "name": "stdout",
     "output_type": "stream",
     "text": [
      "       Metragem  Quartos  Banheiros  Vagas  Valor_anuncio\n",
      "0          0.07     0.53       2.14   0.78           1.00\n",
      "1          0.01     0.53       0.10   0.02           0.16\n",
      "2          0.04     0.53       0.41   0.75           0.68\n",
      "3          0.02     0.43       0.91   0.02           0.60\n",
      "4          0.04     0.43       0.91   0.75           0.64\n",
      "...         ...      ...        ...    ...            ...\n",
      "10002      0.02     0.43       1.12   0.02           0.39\n",
      "10003      0.04     1.38       0.91   0.75           0.61\n",
      "10004      0.02     4.34       1.63   0.40           0.19\n",
      "10005      0.03     0.43       0.41   0.78           0.51\n",
      "10007      0.04     0.43       0.91   0.75           0.71\n",
      "\n",
      "[9156 rows x 5 columns]\n"
     ]
    }
   ],
   "source": [
    "# Identificando valores outliers e removendo do dataset (Método Z-Score)\n",
    "from scipy import stats\n",
    "\n",
    "z = np.abs(stats.zscore(data_vendas[cols]))\n",
    "print(z)"
   ]
  },
  {
   "cell_type": "markdown",
   "metadata": {},
   "source": [
    "* **Z-Score:** Nos da uma ideia de quão longe da média o dado está. Tecnicamente falando é a medida de quantos desvios padrão abaixo ou acima da média da populacão o dado está."
   ]
  },
  {
   "cell_type": "code",
   "execution_count": 18,
   "metadata": {},
   "outputs": [],
   "source": [
    "# Na maioria dos casos os outliers são indetificados quando o valor de 'z' é maior do que 3, ou seja 3 vezes o valor do desvio padrão.\n",
    "filtro_zscore = (z < 3).all(axis=1)\n",
    "data_vendas_filtrado = data_vendas[filtro_zscore]"
   ]
  },
  {
   "cell_type": "code",
   "execution_count": 19,
   "metadata": {},
   "outputs": [
    {
     "data": {
      "image/png": "[encoded data removed]",
      "text/plain": [
       "<Figure size 1440x288 with 5 Axes>"
      ]
     },
     "metadata": {
      "needs_background": "light"
     },
     "output_type": "display_data"
    }
   ],
   "source": [
    "# Visualizando os dados após a remoção dos outliers\n",
    "fig, axes = plt.subplots(1, ncols, figsize = (20, 4))\n",
    "\n",
    "for col, ax in zip(cols, axes.flatten()):\n",
    "    sns.boxplot(data = data_vendas_filtrado, x = col, ax = ax)\n",
    "\n",
    "plt.tight_layout()"
   ]
  },
  {
   "cell_type": "code",
   "execution_count": 20,
   "metadata": {},
   "outputs": [],
   "source": [
    "# Adicionando uma nova coluna ao dataframe para reduzir a escala do valores dos imóveis\n",
    "data_vendas_filtrado = data_vendas_filtrado.assign(Valor_anuncio_milhoes = lambda x: (x['Valor_anuncio']/1000000))"
   ]
  },
  {
   "cell_type": "code",
   "execution_count": 21,
   "metadata": {},
   "outputs": [
    {
     "data": {
      "image/png": "[encoded data removed]",
      "text/plain": [
       "<Figure size 1152x648 with 5 Axes>"
      ]
     },
     "metadata": {
      "needs_background": "light"
     },
     "output_type": "display_data"
    }
   ],
   "source": [
    "# Visualizando a distribuição de cada variável com os gráficos de histograma\n",
    "cols = ['Metragem', 'Quartos', 'Banheiros', 'Vagas', 'Valor_anuncio_milhoes']\n",
    "\n",
    "fig, axes = plt.subplots(3, 2, figsize = (16, 9))\n",
    "\n",
    "for col, ax in zip(cols, axes.flatten()):\n",
    "    if col != 'Valor_anuncio_milhoes':\n",
    "        sns.histplot(data = data_vendas_filtrado, x = col, ax = ax, bins = 50)\n",
    "        ax.set(ylabel = 'Frequência')\n",
    "    else:\n",
    "        sns.histplot(data = data_vendas_filtrado, x = col, ax = ax, bins = 50)\n",
    "        ax.set(xlabel = 'Valor do Imóvel (Milhões)', ylabel = 'Frequência')\n",
    "\n",
    "fig.suptitle('Histograma: Distribuição das variáveis carateristicas dos Imóveis de São Paulo, SP.', fontsize = 14)\n",
    "fig.delaxes(axes[2,1])\n",
    "\n",
    "plt.tight_layout()"
   ]
  },
  {
   "cell_type": "code",
   "execution_count": 22,
   "metadata": {},
   "outputs": [
    {
     "data": {
      "image/png": "[encoded data removed]",
      "text/plain": [
       "<Figure size 1584x576 with 3 Axes>"
      ]
     },
     "metadata": {
      "needs_background": "light"
     },
     "output_type": "display_data"
    }
   ],
   "source": [
    "# Visualizando a distribuição das variáveis em relação ao valor dos imóveis\n",
    "fig, ax = plt.subplots(2,2, figsize = (22,8))\n",
    "\n",
    "sns.boxplot(data= data_vendas_filtrado, x = 'Quartos',   y = 'Valor_anuncio', ax = ax[0,0])\n",
    "sns.boxplot(data= data_vendas_filtrado, x = 'Vagas',     y = 'Valor_anuncio', ax = ax[0,1])\n",
    "sns.boxplot(data= data_vendas_filtrado, x = 'Banheiros', y = 'Valor_anuncio', ax = ax[1,0])\n",
    "\n",
    "fig.delaxes(ax[1,1])\n",
    "fig.tight_layout()"
   ]
  },
  {
   "cell_type": "code",
   "execution_count": 23,
   "metadata": {},
   "outputs": [
    {
     "data": {
      "text/html": [
       "<div>\n",
       "<style scoped>\n",
       "    .dataframe tbody tr th:only-of-type {\n",
       "        vertical-align: middle;\n",
       "    }\n",
       "\n",
       "    .dataframe tbody tr th {\n",
       "        vertical-align: top;\n",
       "    }\n",
       "\n",
       "    .dataframe thead th {\n",
       "        text-align: right;\n",
       "    }\n",
       "</style>\n",
       "<table border=\"1\" class=\"dataframe\">\n",
       "  <thead>\n",
       "    <tr style=\"text-align: right;\">\n",
       "      <th></th>\n",
       "      <th>Bairro</th>\n",
       "      <th>Metragem</th>\n",
       "      <th>Quartos</th>\n",
       "      <th>Banheiros</th>\n",
       "      <th>Vagas</th>\n",
       "      <th>Valor_anuncio</th>\n",
       "      <th>Valor_anuncio_milhoes</th>\n",
       "      <th>valor_m2</th>\n",
       "    </tr>\n",
       "  </thead>\n",
       "  <tbody>\n",
       "    <tr>\n",
       "      <th>0</th>\n",
       "      <td>Aclimação</td>\n",
       "      <td>19447</td>\n",
       "      <td>258</td>\n",
       "      <td>240</td>\n",
       "      <td>230</td>\n",
       "      <td>139292801.00</td>\n",
       "      <td>139.29</td>\n",
       "      <td>7162.69</td>\n",
       "    </tr>\n",
       "    <tr>\n",
       "      <th>1</th>\n",
       "      <td>Alto da Boa Vista</td>\n",
       "      <td>3351</td>\n",
       "      <td>33</td>\n",
       "      <td>41</td>\n",
       "      <td>37</td>\n",
       "      <td>19130000.00</td>\n",
       "      <td>19.13</td>\n",
       "      <td>5708.74</td>\n",
       "    </tr>\n",
       "    <tr>\n",
       "      <th>2</th>\n",
       "      <td>Alto da Lapa</td>\n",
       "      <td>23075</td>\n",
       "      <td>242</td>\n",
       "      <td>294</td>\n",
       "      <td>296</td>\n",
       "      <td>162653500.00</td>\n",
       "      <td>162.65</td>\n",
       "      <td>7048.91</td>\n",
       "    </tr>\n",
       "    <tr>\n",
       "      <th>3</th>\n",
       "      <td>Alto da Mooca</td>\n",
       "      <td>5401</td>\n",
       "      <td>66</td>\n",
       "      <td>52</td>\n",
       "      <td>73</td>\n",
       "      <td>23683400.00</td>\n",
       "      <td>23.68</td>\n",
       "      <td>4385.00</td>\n",
       "    </tr>\n",
       "    <tr>\n",
       "      <th>4</th>\n",
       "      <td>Alto de Pinheiros</td>\n",
       "      <td>146621</td>\n",
       "      <td>1344</td>\n",
       "      <td>1652</td>\n",
       "      <td>1609</td>\n",
       "      <td>1582070915.00</td>\n",
       "      <td>1582.07</td>\n",
       "      <td>10790.21</td>\n",
       "    </tr>\n",
       "    <tr>\n",
       "      <th>...</th>\n",
       "      <td>...</td>\n",
       "      <td>...</td>\n",
       "      <td>...</td>\n",
       "      <td>...</td>\n",
       "      <td>...</td>\n",
       "      <td>...</td>\n",
       "      <td>...</td>\n",
       "      <td>...</td>\n",
       "    </tr>\n",
       "    <tr>\n",
       "      <th>686</th>\n",
       "      <td>Vila Água Funda</td>\n",
       "      <td>761</td>\n",
       "      <td>13</td>\n",
       "      <td>11</td>\n",
       "      <td>13</td>\n",
       "      <td>3260000.00</td>\n",
       "      <td>3.26</td>\n",
       "      <td>4283.84</td>\n",
       "    </tr>\n",
       "    <tr>\n",
       "      <th>687</th>\n",
       "      <td>Água Branca</td>\n",
       "      <td>2083</td>\n",
       "      <td>37</td>\n",
       "      <td>39</td>\n",
       "      <td>27</td>\n",
       "      <td>14718000.00</td>\n",
       "      <td>14.72</td>\n",
       "      <td>7065.77</td>\n",
       "    </tr>\n",
       "    <tr>\n",
       "      <th>688</th>\n",
       "      <td>Água Fria</td>\n",
       "      <td>1985</td>\n",
       "      <td>34</td>\n",
       "      <td>41</td>\n",
       "      <td>30</td>\n",
       "      <td>11125000.00</td>\n",
       "      <td>11.12</td>\n",
       "      <td>5604.53</td>\n",
       "    </tr>\n",
       "    <tr>\n",
       "      <th>689</th>\n",
       "      <td>Água Funda</td>\n",
       "      <td>278</td>\n",
       "      <td>6</td>\n",
       "      <td>5</td>\n",
       "      <td>4</td>\n",
       "      <td>1090000.00</td>\n",
       "      <td>1.09</td>\n",
       "      <td>3920.86</td>\n",
       "    </tr>\n",
       "    <tr>\n",
       "      <th>690</th>\n",
       "      <td>Água Rasa</td>\n",
       "      <td>1117</td>\n",
       "      <td>16</td>\n",
       "      <td>12</td>\n",
       "      <td>22</td>\n",
       "      <td>4297000.00</td>\n",
       "      <td>4.30</td>\n",
       "      <td>3846.91</td>\n",
       "    </tr>\n",
       "  </tbody>\n",
       "</table>\n",
       "<p>691 rows × 8 columns</p>\n",
       "</div>"
      ],
      "text/plain": [
       "                Bairro  Metragem  Quartos  Banheiros  Vagas  Valor_anuncio  \\\n",
       "0            Aclimação     19447      258        240    230   139292801.00   \n",
       "1    Alto da Boa Vista      3351       33         41     37    19130000.00   \n",
       "2         Alto da Lapa     23075      242        294    296   162653500.00   \n",
       "3        Alto da Mooca      5401       66         52     73    23683400.00   \n",
       "4    Alto de Pinheiros    146621     1344       1652   1609  1582070915.00   \n",
       "..                 ...       ...      ...        ...    ...            ...   \n",
       "686    Vila Água Funda       761       13         11     13     3260000.00   \n",
       "687        Água Branca      2083       37         39     27    14718000.00   \n",
       "688          Água Fria      1985       34         41     30    11125000.00   \n",
       "689         Água Funda       278        6          5      4     1090000.00   \n",
       "690          Água Rasa      1117       16         12     22     4297000.00   \n",
       "\n",
       "     Valor_anuncio_milhoes  valor_m2  \n",
       "0                   139.29   7162.69  \n",
       "1                    19.13   5708.74  \n",
       "2                   162.65   7048.91  \n",
       "3                    23.68   4385.00  \n",
       "4                  1582.07  10790.21  \n",
       "..                     ...       ...  \n",
       "686                   3.26   4283.84  \n",
       "687                  14.72   7065.77  \n",
       "688                  11.12   5604.53  \n",
       "689                   1.09   3920.86  \n",
       "690                   4.30   3846.91  \n",
       "\n",
       "[691 rows x 8 columns]"
      ]
     },
     "execution_count": 23,
     "metadata": {},
     "output_type": "execute_result"
    }
   ],
   "source": [
    "# Preço do metro quadrado por bairro\n",
    "metragem_valor = data_vendas_filtrado.groupby('Bairro').sum()\n",
    "metragem_valor = metragem_valor.assign(valor_m2 = lambda x: (x['Valor_anuncio']/x['Metragem']))\n",
    "metragem_valor.reset_index(inplace= True)\n",
    "metragem_valor"
   ]
  },
  {
   "cell_type": "code",
   "execution_count": 24,
   "metadata": {},
   "outputs": [
    {
     "data": {
      "text/plain": [
       "['Alto de Pinheiros',\n",
       " 'Jardim Guedala',\n",
       " 'Brooklin Paulista',\n",
       " 'Jardim Paulista',\n",
       " 'Vila Madalena',\n",
       " 'Pacaembu',\n",
       " 'Planalto Paulista',\n",
       " 'Cidade Jardim',\n",
       " 'Vila Mariana',\n",
       " 'Jardim Leonor',\n",
       " 'Santo Amaro',\n",
       " 'Morumbi',\n",
       " 'Jardim Europa',\n",
       " 'Campo Belo',\n",
       " 'Sumaré',\n",
       " 'Jardim Paulistano',\n",
       " 'Bosque da Saúde',\n",
       " 'Jardim da Glória',\n",
       " 'Indianópolis',\n",
       " 'Boaçava',\n",
       " 'Vila Nova Conceição',\n",
       " 'Cambuci',\n",
       " 'Pinheiros',\n",
       " 'Vila Monumento',\n",
       " 'Jardim Luzitânia']"
      ]
     },
     "execution_count": 24,
     "metadata": {},
     "output_type": "execute_result"
    }
   ],
   "source": [
    "bairros = list(data_vendas_filtrado['Bairro'].value_counts()[:25].index)\n",
    "bairros"
   ]
  },
  {
   "cell_type": "code",
   "execution_count": 25,
   "metadata": {},
   "outputs": [
    {
     "data": {
      "application/vnd.plotly.v1+json": {
       "config": {
        "plotlyServerURL": "https://plot.ly"
       },
       "data": [
        {
         "hovertemplate": "<b>%{hovertext}</b><br><br>Metragem=%{x}<br>Valor_anuncio_milhoes=%{y}<br>valor_m2=%{marker.size}<extra></extra>",
         "hovertext": [
          "Alto de Pinheiros",
          "Boaçava",
          "Bosque da Saúde",
          "Brooklin Paulista",
          "Cambuci",
          "Campo Belo",
          "Cidade Jardim",
          "Indianópolis",
          "Jardim Europa",
          "Jardim Guedala",
          "Jardim Leonor",
          "Jardim Luzitânia",
          "Jardim Paulista",
          "Jardim Paulistano",
          "Jardim da Glória",
          "Morumbi",
          "Pacaembu",
          "Pinheiros",
          "Planalto Paulista",
          "Santo Amaro",
          "Sumaré",
          "Vila Madalena",
          "Vila Mariana",
          "Vila Monumento",
          "Vila Nova Conceição"
         ],
         "legendgroup": "",
         "marker": {
          "color": "#636efa",
          "size": [
           10790.206825761657,
           9323.22554175525,
           6044.704116638079,
           6796.902788491758,
           5574.929478138223,
           6949.059988289775,
           8077.839984433595,
           8093.663055219142,
           16807.57447795055,
           7690.0959214688455,
           6478.941873120898,
           16303.684434328023,
           14278.448239863032,
           14758.00038752575,
           6069.521876820035,
           6016.365049089731,
           8662.013644874196,
           11841.616178156215,
           6425.553376295881,
           7361.06685760315,
           7943.430153898191,
           8809.167041511373,
           7662.843856945061,
           5415.23178807947,
           16823.79562661253
          ],
          "sizemode": "area",
          "sizeref": 4.673276562947925,
          "symbol": "circle"
         },
         "mode": "markers",
         "name": "",
         "orientation": "v",
         "showlegend": false,
         "type": "scatter",
         "x": [
          146621,
          53622,
          27984,
          70002,
          17016,
          37574,
          113064,
          30551,
          60387,
          202009,
          92797,
          39979,
          95788,
          49029,
          27472,
          81789,
          77978,
          24428,
          53535,
          44692,
          47304,
          62248,
          38279,
          20838,
          23643
         ],
         "xaxis": "x",
         "y": [
          1582.070915,
          499.93,
          169.155,
          475.796789,
          94.863,
          261.10398,
          913.3129,
          247.2695,
          1014.959,
          1553.468587,
          601.226369,
          651.805,
          1367.704,
          723.570001,
          166.741905,
          492.072481,
          675.4465,
          289.267,
          343.992,
          328.9808,
          375.75602,
          548.35303,
          293.326,
          112.8426,
          397.765
         ],
         "yaxis": "y"
        }
       ],
       "layout": {
        "legend": {
         "itemsizing": "constant",
         "tracegroupgap": 0
        },
        "margin": {
         "t": 60
        },
        "template": {
         "data": {
          "bar": [
           {
            "error_x": {
             "color": "#2a3f5f"
            },
            "error_y": {
             "color": "#2a3f5f"
            },
            "marker": {
             "line": {
              "color": "#E5ECF6",
              "width": 0.5
             },
             "pattern": {
              "fillmode": "overlay",
              "size": 10,
              "solidity": 0.2
             }
            },
            "type": "bar"
           }
          ],
          "barpolar": [
           {
            "marker": {
             "line": {
              "color": "#E5ECF6",
              "width": 0.5
             },
             "pattern": {
              "fillmode": "overlay",
              "size": 10,
              "solidity": 0.2
             }
            },
            "type": "barpolar"
           }
          ],
          "carpet": [
           {
            "aaxis": {
             "endlinecolor": "#2a3f5f",
             "gridcolor": "white",
             "linecolor": "white",
             "minorgridcolor": "white",
             "startlinecolor": "#2a3f5f"
            },
            "baxis": {
             "endlinecolor": "#2a3f5f",
             "gridcolor": "white",
             "linecolor": "white",
             "minorgridcolor": "white",
             "startlinecolor": "#2a3f5f"
            },
            "type": "carpet"
           }
          ],
          "choropleth": [
           {
            "colorbar": {
             "outlinewidth": 0,
             "ticks": ""
            },
            "type": "choropleth"
           }
          ],
          "contour": [
           {
            "colorbar": {
             "outlinewidth": 0,
             "ticks": ""
            },
            "colorscale": [
             [
              0,
              "#0d0887"
             ],
             [
              0.1111111111111111,
              "#46039f"
             ],
             [
              0.2222222222222222,
              "#7201a8"
             ],
             [
              0.3333333333333333,
              "#9c179e"
             ],
             [
              0.4444444444444444,
              "#bd3786"
             ],
             [
              0.5555555555555556,
              "#d8576b"
             ],
             [
              0.6666666666666666,
              "#ed7953"
             ],
             [
              0.7777777777777778,
              "#fb9f3a"
             ],
             [
              0.8888888888888888,
              "#fdca26"
             ],
             [
              1,
              "#f0f921"
             ]
            ],
            "type": "contour"
           }
          ],
          "contourcarpet": [
           {
            "colorbar": {
             "outlinewidth": 0,
             "ticks": ""
            },
            "type": "contourcarpet"
           }
          ],
          "heatmap": [
           {
            "colorbar": {
             "outlinewidth": 0,
             "ticks": ""
            },
            "colorscale": [
             [
              0,
              "#0d0887"
             ],
             [
              0.1111111111111111,
              "#46039f"
             ],
             [
              0.2222222222222222,
              "#7201a8"
             ],
             [
              0.3333333333333333,
              "#9c179e"
             ],
             [
              0.4444444444444444,
              "#bd3786"
             ],
             [
              0.5555555555555556,
              "#d8576b"
             ],
             [
              0.6666666666666666,
              "#ed7953"
             ],
             [
              0.7777777777777778,
              "#fb9f3a"
             ],
             [
              0.8888888888888888,
              "#fdca26"
             ],
             [
              1,
              "#f0f921"
             ]
            ],
            "type": "heatmap"
           }
          ],
          "heatmapgl": [
           {
            "colorbar": {
             "outlinewidth": 0,
             "ticks": ""
            },
            "colorscale": [
             [
              0,
              "#0d0887"
             ],
             [
              0.1111111111111111,
              "#46039f"
             ],
             [
              0.2222222222222222,
              "#7201a8"
             ],
             [
              0.3333333333333333,
              "#9c179e"
             ],
             [
              0.4444444444444444,
              "#bd3786"
             ],
             [
              0.5555555555555556,
              "#d8576b"
             ],
             [
              0.6666666666666666,
              "#ed7953"
             ],
             [
              0.7777777777777778,
              "#fb9f3a"
             ],
             [
              0.8888888888888888,
              "#fdca26"
             ],
             [
              1,
              "#f0f921"
             ]
            ],
            "type": "heatmapgl"
           }
          ],
          "histogram": [
           {
            "marker": {
             "pattern": {
              "fillmode": "overlay",
              "size": 10,
              "solidity": 0.2
             }
            },
            "type": "histogram"
           }
          ],
          "histogram2d": [
           {
            "colorbar": {
             "outlinewidth": 0,
             "ticks": ""
            },
            "colorscale": [
             [
              0,
              "#0d0887"
             ],
             [
              0.1111111111111111,
              "#46039f"
             ],
             [
              0.2222222222222222,
              "#7201a8"
             ],
             [
              0.3333333333333333,
              "#9c179e"
             ],
             [
              0.4444444444444444,
              "#bd3786"
             ],
             [
              0.5555555555555556,
              "#d8576b"
             ],
             [
              0.6666666666666666,
              "#ed7953"
             ],
             [
              0.7777777777777778,
              "#fb9f3a"
             ],
             [
              0.8888888888888888,
              "#fdca26"
             ],
             [
              1,
              "#f0f921"
             ]
            ],
            "type": "histogram2d"
           }
          ],
          "histogram2dcontour": [
           {
            "colorbar": {
             "outlinewidth": 0,
             "ticks": ""
            },
            "colorscale": [
             [
              0,
              "#0d0887"
             ],
             [
              0.1111111111111111,
              "#46039f"
             ],
             [
              0.2222222222222222,
              "#7201a8"
             ],
             [
              0.3333333333333333,
              "#9c179e"
             ],
             [
              0.4444444444444444,
              "#bd3786"
             ],
             [
              0.5555555555555556,
              "#d8576b"
             ],
             [
              0.6666666666666666,
              "#ed7953"
             ],
             [
              0.7777777777777778,
              "#fb9f3a"
             ],
             [
              0.8888888888888888,
              "#fdca26"
             ],
             [
              1,
              "#f0f921"
             ]
            ],
            "type": "histogram2dcontour"
           }
          ],
          "mesh3d": [
           {
            "colorbar": {
             "outlinewidth": 0,
             "ticks": ""
            },
            "type": "mesh3d"
           }
          ],
          "parcoords": [
           {
            "line": {
             "colorbar": {
              "outlinewidth": 0,
              "ticks": ""
             }
            },
            "type": "parcoords"
           }
          ],
          "pie": [
           {
            "automargin": true,
            "type": "pie"
           }
          ],
          "scatter": [
           {
            "fillpattern": {
             "fillmode": "overlay",
             "size": 10,
             "solidity": 0.2
            },
            "type": "scatter"
           }
          ],
          "scatter3d": [
           {
            "line": {
             "colorbar": {
              "outlinewidth": 0,
              "ticks": ""
             }
            },
            "marker": {
             "colorbar": {
              "outlinewidth": 0,
              "ticks": ""
             }
            },
            "type": "scatter3d"
           }
          ],
          "scattercarpet": [
           {
            "marker": {
             "colorbar": {
              "outlinewidth": 0,
              "ticks": ""
             }
            },
            "type": "scattercarpet"
           }
          ],
          "scattergeo": [
           {
            "marker": {
             "colorbar": {
              "outlinewidth": 0,
              "ticks": ""
             }
            },
            "type": "scattergeo"
           }
          ],
          "scattergl": [
           {
            "marker": {
             "colorbar": {
              "outlinewidth": 0,
              "ticks": ""
             }
            },
            "type": "scattergl"
           }
          ],
          "scattermapbox": [
           {
            "marker": {
             "colorbar": {
              "outlinewidth": 0,
              "ticks": ""
             }
            },
            "type": "scattermapbox"
           }
          ],
          "scatterpolar": [
           {
            "marker": {
             "colorbar": {
              "outlinewidth": 0,
              "ticks": ""
             }
            },
            "type": "scatterpolar"
           }
          ],
          "scatterpolargl": [
           {
            "marker": {
             "colorbar": {
              "outlinewidth": 0,
              "ticks": ""
             }
            },
            "type": "scatterpolargl"
           }
          ],
          "scatterternary": [
           {
            "marker": {
             "colorbar": {
              "outlinewidth": 0,
              "ticks": ""
             }
            },
            "type": "scatterternary"
           }
          ],
          "surface": [
           {
            "colorbar": {
             "outlinewidth": 0,
             "ticks": ""
            },
            "colorscale": [
             [
              0,
              "#0d0887"
             ],
             [
              0.1111111111111111,
              "#46039f"
             ],
             [
              0.2222222222222222,
              "#7201a8"
             ],
             [
              0.3333333333333333,
              "#9c179e"
             ],
             [
              0.4444444444444444,
              "#bd3786"
             ],
             [
              0.5555555555555556,
              "#d8576b"
             ],
             [
              0.6666666666666666,
              "#ed7953"
             ],
             [
              0.7777777777777778,
              "#fb9f3a"
             ],
             [
              0.8888888888888888,
              "#fdca26"
             ],
             [
              1,
              "#f0f921"
             ]
            ],
            "type": "surface"
           }
          ],
          "table": [
           {
            "cells": {
             "fill": {
              "color": "#EBF0F8"
             },
             "line": {
              "color": "white"
             }
            },
            "header": {
             "fill": {
              "color": "#C8D4E3"
             },
             "line": {
              "color": "white"
             }
            },
            "type": "table"
           }
          ]
         },
         "layout": {
          "annotationdefaults": {
           "arrowcolor": "#2a3f5f",
           "arrowhead": 0,
           "arrowwidth": 1
          },
          "autotypenumbers": "strict",
          "coloraxis": {
           "colorbar": {
            "outlinewidth": 0,
            "ticks": ""
           }
          },
          "colorscale": {
           "diverging": [
            [
             0,
             "#8e0152"
            ],
            [
             0.1,
             "#c51b7d"
            ],
            [
             0.2,
             "#de77ae"
            ],
            [
             0.3,
             "#f1b6da"
            ],
            [
             0.4,
             "#fde0ef"
            ],
            [
             0.5,
             "#f7f7f7"
            ],
            [
             0.6,
             "#e6f5d0"
            ],
            [
             0.7,
             "#b8e186"
            ],
            [
             0.8,
             "#7fbc41"
            ],
            [
             0.9,
             "#4d9221"
            ],
            [
             1,
             "#276419"
            ]
           ],
           "sequential": [
            [
             0,
             "#0d0887"
            ],
            [
             0.1111111111111111,
             "#46039f"
            ],
            [
             0.2222222222222222,
             "#7201a8"
            ],
            [
             0.3333333333333333,
             "#9c179e"
            ],
            [
             0.4444444444444444,
             "#bd3786"
            ],
            [
             0.5555555555555556,
             "#d8576b"
            ],
            [
             0.6666666666666666,
             "#ed7953"
            ],
            [
             0.7777777777777778,
             "#fb9f3a"
            ],
            [
             0.8888888888888888,
             "#fdca26"
            ],
            [
             1,
             "#f0f921"
            ]
           ],
           "sequentialminus": [
            [
             0,
             "#0d0887"
            ],
            [
             0.1111111111111111,
             "#46039f"
            ],
            [
             0.2222222222222222,
             "#7201a8"
            ],
            [
             0.3333333333333333,
             "#9c179e"
            ],
            [
             0.4444444444444444,
             "#bd3786"
            ],
            [
             0.5555555555555556,
             "#d8576b"
            ],
            [
             0.6666666666666666,
             "#ed7953"
            ],
            [
             0.7777777777777778,
             "#fb9f3a"
            ],
            [
             0.8888888888888888,
             "#fdca26"
            ],
            [
             1,
             "#f0f921"
            ]
           ]
          },
          "colorway": [
           "#636efa",
           "#EF553B",
           "#00cc96",
           "#ab63fa",
           "#FFA15A",
           "#19d3f3",
           "#FF6692",
           "#B6E880",
           "#FF97FF",
           "#FECB52"
          ],
          "font": {
           "color": "#2a3f5f"
          },
          "geo": {
           "bgcolor": "white",
           "lakecolor": "white",
           "landcolor": "#E5ECF6",
           "showlakes": true,
           "showland": true,
           "subunitcolor": "white"
          },
          "hoverlabel": {
           "align": "left"
          },
          "hovermode": "closest",
          "mapbox": {
           "style": "light"
          },
          "paper_bgcolor": "white",
          "plot_bgcolor": "#E5ECF6",
          "polar": {
           "angularaxis": {
            "gridcolor": "white",
            "linecolor": "white",
            "ticks": ""
           },
           "bgcolor": "#E5ECF6",
           "radialaxis": {
            "gridcolor": "white",
            "linecolor": "white",
            "ticks": ""
           }
          },
          "scene": {
           "xaxis": {
            "backgroundcolor": "#E5ECF6",
            "gridcolor": "white",
            "gridwidth": 2,
            "linecolor": "white",
            "showbackground": true,
            "ticks": "",
            "zerolinecolor": "white"
           },
           "yaxis": {
            "backgroundcolor": "#E5ECF6",
            "gridcolor": "white",
            "gridwidth": 2,
            "linecolor": "white",
            "showbackground": true,
            "ticks": "",
            "zerolinecolor": "white"
           },
           "zaxis": {
            "backgroundcolor": "#E5ECF6",
            "gridcolor": "white",
            "gridwidth": 2,
            "linecolor": "white",
            "showbackground": true,
            "ticks": "",
            "zerolinecolor": "white"
           }
          },
          "shapedefaults": {
           "line": {
            "color": "#2a3f5f"
           }
          },
          "ternary": {
           "aaxis": {
            "gridcolor": "white",
            "linecolor": "white",
            "ticks": ""
           },
           "baxis": {
            "gridcolor": "white",
            "linecolor": "white",
            "ticks": ""
           },
           "bgcolor": "#E5ECF6",
           "caxis": {
            "gridcolor": "white",
            "linecolor": "white",
            "ticks": ""
           }
          },
          "title": {
           "x": 0.05
          },
          "xaxis": {
           "automargin": true,
           "gridcolor": "white",
           "linecolor": "white",
           "ticks": "",
           "title": {
            "standoff": 15
           },
           "zerolinecolor": "white",
           "zerolinewidth": 2
          },
          "yaxis": {
           "automargin": true,
           "gridcolor": "white",
           "linecolor": "white",
           "ticks": "",
           "title": {
            "standoff": 15
           },
           "zerolinecolor": "white",
           "zerolinewidth": 2
          }
         }
        },
        "xaxis": {
         "anchor": "y",
         "domain": [
          0,
          1
         ],
         "title": {
          "text": "Metragem"
         },
         "type": "log"
        },
        "yaxis": {
         "anchor": "x",
         "domain": [
          0,
          1
         ],
         "title": {
          "text": "Valor_anuncio_milhoes"
         }
        }
       }
      }
     },
     "metadata": {},
     "output_type": "display_data"
    }
   ],
   "source": [
    "fig = px.scatter(metragem_valor.query('Bairro in @bairros'), x = 'Metragem', y = 'Valor_anuncio_milhoes', hover_name = 'Bairro', size = 'valor_m2',\n",
    "                                    size_max = 60, log_x= True)\n",
    "\n",
    "fig.show()"
   ]
  },
  {
   "cell_type": "code",
   "execution_count": 26,
   "metadata": {},
   "outputs": [
    {
     "data": {
      "image/png": "[encoded data removed]",
      "text/plain": [
       "<Figure size 1584x576 with 1 Axes>"
      ]
     },
     "metadata": {
      "needs_background": "light"
     },
     "output_type": "display_data"
    }
   ],
   "source": [
    "plt.figure(figsize = (22,8))\n",
    "ax = sns.barplot(data = metragem_valor.query('Bairro in @bairros'), x = 'Bairro', y = 'valor_m2')\n",
    "ax.tick_params(axis = 'x', rotation = 40)\n",
    "plt.tight_layout()"
   ]
  },
  {
   "cell_type": "code",
   "execution_count": 27,
   "metadata": {},
   "outputs": [
    {
     "data": {
      "text/html": [
       "<div>\n",
       "<style scoped>\n",
       "    .dataframe tbody tr th:only-of-type {\n",
       "        vertical-align: middle;\n",
       "    }\n",
       "\n",
       "    .dataframe tbody tr th {\n",
       "        vertical-align: top;\n",
       "    }\n",
       "\n",
       "    .dataframe thead th {\n",
       "        text-align: right;\n",
       "    }\n",
       "</style>\n",
       "<table border=\"1\" class=\"dataframe\">\n",
       "  <thead>\n",
       "    <tr style=\"text-align: right;\">\n",
       "      <th></th>\n",
       "      <th>Quartos</th>\n",
       "      <th>Metragem</th>\n",
       "      <th>Banheiros</th>\n",
       "      <th>Vagas</th>\n",
       "      <th>Valor_anuncio</th>\n",
       "      <th>Valor_anuncio_milhoes</th>\n",
       "    </tr>\n",
       "  </thead>\n",
       "  <tbody>\n",
       "    <tr>\n",
       "      <th>0</th>\n",
       "      <td>1</td>\n",
       "      <td>153.66</td>\n",
       "      <td>1.59</td>\n",
       "      <td>1.86</td>\n",
       "      <td>1012728.67</td>\n",
       "      <td>1.01</td>\n",
       "    </tr>\n",
       "    <tr>\n",
       "      <th>1</th>\n",
       "      <td>2</td>\n",
       "      <td>150.21</td>\n",
       "      <td>2.02</td>\n",
       "      <td>2.18</td>\n",
       "      <td>954146.21</td>\n",
       "      <td>0.95</td>\n",
       "    </tr>\n",
       "    <tr>\n",
       "      <th>2</th>\n",
       "      <td>3</td>\n",
       "      <td>251.29</td>\n",
       "      <td>3.22</td>\n",
       "      <td>3.29</td>\n",
       "      <td>1912036.66</td>\n",
       "      <td>1.91</td>\n",
       "    </tr>\n",
       "    <tr>\n",
       "      <th>3</th>\n",
       "      <td>4</td>\n",
       "      <td>432.30</td>\n",
       "      <td>4.55</td>\n",
       "      <td>4.56</td>\n",
       "      <td>3614017.37</td>\n",
       "      <td>3.61</td>\n",
       "    </tr>\n",
       "    <tr>\n",
       "      <th>4</th>\n",
       "      <td>5</td>\n",
       "      <td>554.85</td>\n",
       "      <td>5.50</td>\n",
       "      <td>5.31</td>\n",
       "      <td>4413583.81</td>\n",
       "      <td>4.41</td>\n",
       "    </tr>\n",
       "    <tr>\n",
       "      <th>5</th>\n",
       "      <td>6</td>\n",
       "      <td>527.78</td>\n",
       "      <td>5.12</td>\n",
       "      <td>4.76</td>\n",
       "      <td>4027480.77</td>\n",
       "      <td>4.03</td>\n",
       "    </tr>\n",
       "  </tbody>\n",
       "</table>\n",
       "</div>"
      ],
      "text/plain": [
       "   Quartos  Metragem  Banheiros  Vagas  Valor_anuncio  Valor_anuncio_milhoes\n",
       "0        1    153.66       1.59   1.86     1012728.67                   1.01\n",
       "1        2    150.21       2.02   2.18      954146.21                   0.95\n",
       "2        3    251.29       3.22   3.29     1912036.66                   1.91\n",
       "3        4    432.30       4.55   4.56     3614017.37                   3.61\n",
       "4        5    554.85       5.50   5.31     4413583.81                   4.41\n",
       "5        6    527.78       5.12   4.76     4027480.77                   4.03"
      ]
     },
     "execution_count": 27,
     "metadata": {},
     "output_type": "execute_result"
    }
   ],
   "source": [
    "# Visualizando a metragem e o valor dos imóveis correspondentes as seguintes variáveis: Quartos, banheiros e vagas\n",
    "\n",
    "# 1 - Quartos\n",
    "data_por_quartos = data_vendas_filtrado.groupby('Quartos').mean()\n",
    "data_por_quartos.reset_index(inplace = True)\n",
    "data_por_quartos"
   ]
  },
  {
   "cell_type": "code",
   "execution_count": 28,
   "metadata": {},
   "outputs": [
    {
     "data": {
      "image/png": "[encoded data removed]",
      "text/plain": [
       "<Figure size 1008x432 with 2 Axes>"
      ]
     },
     "metadata": {
      "needs_background": "light"
     },
     "output_type": "display_data"
    }
   ],
   "source": [
    "fig, ax = plt.subplots(2, figsize = (14, 6))\n",
    "sns.barplot(data = data_por_quartos, x = 'Quartos', y = 'Metragem', ax = ax[0])\n",
    "sns.barplot(data = data_por_quartos, x = 'Quartos', y = 'Valor_anuncio_milhoes', ax = ax[1])\n",
    "ax[1].set(ylabel = 'Valor do Imóvel (Milhões)')\n",
    "plt.tight_layout()"
   ]
  },
  {
   "cell_type": "code",
   "execution_count": 29,
   "metadata": {},
   "outputs": [
    {
     "data": {
      "text/html": [
       "<div>\n",
       "<style scoped>\n",
       "    .dataframe tbody tr th:only-of-type {\n",
       "        vertical-align: middle;\n",
       "    }\n",
       "\n",
       "    .dataframe tbody tr th {\n",
       "        vertical-align: top;\n",
       "    }\n",
       "\n",
       "    .dataframe thead th {\n",
       "        text-align: right;\n",
       "    }\n",
       "</style>\n",
       "<table border=\"1\" class=\"dataframe\">\n",
       "  <thead>\n",
       "    <tr style=\"text-align: right;\">\n",
       "      <th></th>\n",
       "      <th>Banheiros</th>\n",
       "      <th>Metragem</th>\n",
       "      <th>Quartos</th>\n",
       "      <th>Vagas</th>\n",
       "      <th>Valor_anuncio</th>\n",
       "      <th>Valor_anuncio_milhoes</th>\n",
       "    </tr>\n",
       "  </thead>\n",
       "  <tbody>\n",
       "    <tr>\n",
       "      <th>0</th>\n",
       "      <td>1</td>\n",
       "      <td>195.48</td>\n",
       "      <td>2.62</td>\n",
       "      <td>2.73</td>\n",
       "      <td>1188401.35</td>\n",
       "      <td>1.19</td>\n",
       "    </tr>\n",
       "    <tr>\n",
       "      <th>1</th>\n",
       "      <td>2</td>\n",
       "      <td>193.73</td>\n",
       "      <td>2.84</td>\n",
       "      <td>2.67</td>\n",
       "      <td>1303183.29</td>\n",
       "      <td>1.30</td>\n",
       "    </tr>\n",
       "    <tr>\n",
       "      <th>2</th>\n",
       "      <td>3</td>\n",
       "      <td>251.81</td>\n",
       "      <td>3.20</td>\n",
       "      <td>3.21</td>\n",
       "      <td>1871674.37</td>\n",
       "      <td>1.87</td>\n",
       "    </tr>\n",
       "    <tr>\n",
       "      <th>3</th>\n",
       "      <td>4</td>\n",
       "      <td>323.38</td>\n",
       "      <td>3.50</td>\n",
       "      <td>3.88</td>\n",
       "      <td>2570289.89</td>\n",
       "      <td>2.57</td>\n",
       "    </tr>\n",
       "    <tr>\n",
       "      <th>4</th>\n",
       "      <td>5</td>\n",
       "      <td>409.40</td>\n",
       "      <td>3.71</td>\n",
       "      <td>4.34</td>\n",
       "      <td>3436765.14</td>\n",
       "      <td>3.44</td>\n",
       "    </tr>\n",
       "    <tr>\n",
       "      <th>5</th>\n",
       "      <td>6</td>\n",
       "      <td>502.42</td>\n",
       "      <td>4.05</td>\n",
       "      <td>5.05</td>\n",
       "      <td>4367245.14</td>\n",
       "      <td>4.37</td>\n",
       "    </tr>\n",
       "    <tr>\n",
       "      <th>6</th>\n",
       "      <td>7</td>\n",
       "      <td>588.84</td>\n",
       "      <td>4.35</td>\n",
       "      <td>5.56</td>\n",
       "      <td>5074910.83</td>\n",
       "      <td>5.07</td>\n",
       "    </tr>\n",
       "    <tr>\n",
       "      <th>7</th>\n",
       "      <td>8</td>\n",
       "      <td>698.35</td>\n",
       "      <td>4.36</td>\n",
       "      <td>6.33</td>\n",
       "      <td>5975517.86</td>\n",
       "      <td>5.98</td>\n",
       "    </tr>\n",
       "    <tr>\n",
       "      <th>8</th>\n",
       "      <td>9</td>\n",
       "      <td>725.11</td>\n",
       "      <td>4.69</td>\n",
       "      <td>6.33</td>\n",
       "      <td>6452000.00</td>\n",
       "      <td>6.45</td>\n",
       "    </tr>\n",
       "  </tbody>\n",
       "</table>\n",
       "</div>"
      ],
      "text/plain": [
       "   Banheiros  Metragem  Quartos  Vagas  Valor_anuncio  Valor_anuncio_milhoes\n",
       "0          1    195.48     2.62   2.73     1188401.35                   1.19\n",
       "1          2    193.73     2.84   2.67     1303183.29                   1.30\n",
       "2          3    251.81     3.20   3.21     1871674.37                   1.87\n",
       "3          4    323.38     3.50   3.88     2570289.89                   2.57\n",
       "4          5    409.40     3.71   4.34     3436765.14                   3.44\n",
       "5          6    502.42     4.05   5.05     4367245.14                   4.37\n",
       "6          7    588.84     4.35   5.56     5074910.83                   5.07\n",
       "7          8    698.35     4.36   6.33     5975517.86                   5.98\n",
       "8          9    725.11     4.69   6.33     6452000.00                   6.45"
      ]
     },
     "execution_count": 29,
     "metadata": {},
     "output_type": "execute_result"
    }
   ],
   "source": [
    "# 2 - Banheiros\n",
    "data_por_banheiros = data_vendas_filtrado.groupby('Banheiros').mean()\n",
    "data_por_banheiros.reset_index(inplace = True)\n",
    "data_por_banheiros"
   ]
  },
  {
   "cell_type": "code",
   "execution_count": 30,
   "metadata": {},
   "outputs": [
    {
     "data": {
      "image/png": "[encoded data removed]",
      "text/plain": [
       "<Figure size 1008x432 with 2 Axes>"
      ]
     },
     "metadata": {
      "needs_background": "light"
     },
     "output_type": "display_data"
    }
   ],
   "source": [
    "fig, ax = plt.subplots(2, figsize = (14, 6))\n",
    "sns.barplot(data = data_por_banheiros, x = 'Banheiros', y = 'Metragem', ax = ax[0])\n",
    "sns.barplot(data = data_por_banheiros, x = 'Banheiros', y = 'Valor_anuncio_milhoes', ax = ax[1])\n",
    "ax[1].set(ylabel = 'Valor do Imóvel (Milhões)')\n",
    "plt.tight_layout()"
   ]
  },
  {
   "cell_type": "code",
   "execution_count": 31,
   "metadata": {},
   "outputs": [
    {
     "data": {
      "text/html": [
       "<div>\n",
       "<style scoped>\n",
       "    .dataframe tbody tr th:only-of-type {\n",
       "        vertical-align: middle;\n",
       "    }\n",
       "\n",
       "    .dataframe tbody tr th {\n",
       "        vertical-align: top;\n",
       "    }\n",
       "\n",
       "    .dataframe thead th {\n",
       "        text-align: right;\n",
       "    }\n",
       "</style>\n",
       "<table border=\"1\" class=\"dataframe\">\n",
       "  <thead>\n",
       "    <tr style=\"text-align: right;\">\n",
       "      <th></th>\n",
       "      <th>Vagas</th>\n",
       "      <th>Metragem</th>\n",
       "      <th>Quartos</th>\n",
       "      <th>Banheiros</th>\n",
       "      <th>Valor_anuncio</th>\n",
       "      <th>Valor_anuncio_milhoes</th>\n",
       "    </tr>\n",
       "  </thead>\n",
       "  <tbody>\n",
       "    <tr>\n",
       "      <th>0</th>\n",
       "      <td>1</td>\n",
       "      <td>145.78</td>\n",
       "      <td>2.52</td>\n",
       "      <td>2.10</td>\n",
       "      <td>936091.37</td>\n",
       "      <td>0.94</td>\n",
       "    </tr>\n",
       "    <tr>\n",
       "      <th>1</th>\n",
       "      <td>2</td>\n",
       "      <td>188.72</td>\n",
       "      <td>2.94</td>\n",
       "      <td>2.77</td>\n",
       "      <td>1294693.64</td>\n",
       "      <td>1.29</td>\n",
       "    </tr>\n",
       "    <tr>\n",
       "      <th>2</th>\n",
       "      <td>3</td>\n",
       "      <td>283.36</td>\n",
       "      <td>3.34</td>\n",
       "      <td>3.61</td>\n",
       "      <td>2280744.57</td>\n",
       "      <td>2.28</td>\n",
       "    </tr>\n",
       "    <tr>\n",
       "      <th>3</th>\n",
       "      <td>4</td>\n",
       "      <td>368.51</td>\n",
       "      <td>3.63</td>\n",
       "      <td>4.23</td>\n",
       "      <td>3120221.79</td>\n",
       "      <td>3.12</td>\n",
       "    </tr>\n",
       "    <tr>\n",
       "      <th>4</th>\n",
       "      <td>5</td>\n",
       "      <td>393.80</td>\n",
       "      <td>3.70</td>\n",
       "      <td>4.13</td>\n",
       "      <td>3283274.98</td>\n",
       "      <td>3.28</td>\n",
       "    </tr>\n",
       "    <tr>\n",
       "      <th>5</th>\n",
       "      <td>6</td>\n",
       "      <td>483.62</td>\n",
       "      <td>3.81</td>\n",
       "      <td>4.66</td>\n",
       "      <td>3820797.38</td>\n",
       "      <td>3.82</td>\n",
       "    </tr>\n",
       "    <tr>\n",
       "      <th>6</th>\n",
       "      <td>7</td>\n",
       "      <td>507.53</td>\n",
       "      <td>4.03</td>\n",
       "      <td>4.65</td>\n",
       "      <td>4078979.03</td>\n",
       "      <td>4.08</td>\n",
       "    </tr>\n",
       "    <tr>\n",
       "      <th>7</th>\n",
       "      <td>8</td>\n",
       "      <td>560.23</td>\n",
       "      <td>3.97</td>\n",
       "      <td>5.07</td>\n",
       "      <td>4654340.88</td>\n",
       "      <td>4.65</td>\n",
       "    </tr>\n",
       "    <tr>\n",
       "      <th>8</th>\n",
       "      <td>9</td>\n",
       "      <td>734.00</td>\n",
       "      <td>4.15</td>\n",
       "      <td>5.38</td>\n",
       "      <td>6547264.71</td>\n",
       "      <td>6.55</td>\n",
       "    </tr>\n",
       "    <tr>\n",
       "      <th>9</th>\n",
       "      <td>10</td>\n",
       "      <td>723.94</td>\n",
       "      <td>4.07</td>\n",
       "      <td>5.31</td>\n",
       "      <td>5132862.03</td>\n",
       "      <td>5.13</td>\n",
       "    </tr>\n",
       "    <tr>\n",
       "      <th>10</th>\n",
       "      <td>11</td>\n",
       "      <td>630.88</td>\n",
       "      <td>3.88</td>\n",
       "      <td>4.88</td>\n",
       "      <td>5250000.00</td>\n",
       "      <td>5.25</td>\n",
       "    </tr>\n",
       "  </tbody>\n",
       "</table>\n",
       "</div>"
      ],
      "text/plain": [
       "    Vagas  Metragem  Quartos  Banheiros  Valor_anuncio  Valor_anuncio_milhoes\n",
       "0       1    145.78     2.52       2.10      936091.37                   0.94\n",
       "1       2    188.72     2.94       2.77     1294693.64                   1.29\n",
       "2       3    283.36     3.34       3.61     2280744.57                   2.28\n",
       "3       4    368.51     3.63       4.23     3120221.79                   3.12\n",
       "4       5    393.80     3.70       4.13     3283274.98                   3.28\n",
       "5       6    483.62     3.81       4.66     3820797.38                   3.82\n",
       "6       7    507.53     4.03       4.65     4078979.03                   4.08\n",
       "7       8    560.23     3.97       5.07     4654340.88                   4.65\n",
       "8       9    734.00     4.15       5.38     6547264.71                   6.55\n",
       "9      10    723.94     4.07       5.31     5132862.03                   5.13\n",
       "10     11    630.88     3.88       4.88     5250000.00                   5.25"
      ]
     },
     "execution_count": 31,
     "metadata": {},
     "output_type": "execute_result"
    }
   ],
   "source": [
    "# 3 - Vagas\n",
    "data_por_vagas = data_vendas_filtrado.groupby('Vagas').mean()\n",
    "data_por_vagas.reset_index(inplace = True)\n",
    "data_por_vagas"
   ]
  },
  {
   "cell_type": "code",
   "execution_count": 32,
   "metadata": {},
   "outputs": [
    {
     "data": {
      "image/png": "[encoded data removed]",
      "text/plain": [
       "<Figure size 1008x432 with 2 Axes>"
      ]
     },
     "metadata": {
      "needs_background": "light"
     },
     "output_type": "display_data"
    }
   ],
   "source": [
    "fig, ax = plt.subplots(2, figsize = (14, 6))\n",
    "sns.barplot(data = data_por_vagas, x = 'Vagas', y = 'Metragem', ax = ax[0])\n",
    "sns.barplot(data = data_por_vagas, x = 'Vagas', y = 'Valor_anuncio_milhoes', ax = ax[1])\n",
    "ax[1].set(ylabel = 'Valor do Imóvel (Milhões)')\n",
    "plt.tight_layout()"
   ]
  },
  {
   "cell_type": "code",
   "execution_count": 33,
   "metadata": {},
   "outputs": [
    {
     "data": {
      "image/png": "[encoded data removed]",
      "text/plain": [
       "<Figure size 432x288 with 2 Axes>"
      ]
     },
     "metadata": {
      "needs_background": "light"
     },
     "output_type": "display_data"
    }
   ],
   "source": [
    "# Análise de correlação com o gráfico heatmap\n",
    "ax = sns.heatmap(data_vendas_filtrado.corr(), annot= True)\n",
    "ax.tick_params(axis = 'x', rotation = 45)"
   ]
  },
  {
   "cell_type": "markdown",
   "metadata": {},
   "source": [
    "* Analisando os gráficos relacionando a metragem e o valor dos imóveis com os números de quartos, vagas e banheiros é possível perceber uma correlação de proporcionalidade, relembrando que essa análise foi realizada com os dados sem os valores outliers. Ou seja quanto maior o número de quartos e banheiros maior a metragem e o valor do imóvel, como é de se esperar; fugindo um pouco da regra, se tratando do número de vagas é possível observar um pico nos valores de metragem e valor do imóvel com o número de vagas igual a 9 e uma redução nos valores seguintes."
   ]
  },
  {
   "cell_type": "markdown",
   "metadata": {},
   "source": [
    "### **3.Dados IBGE**\n",
    "\n",
    " - Descrição das Variáveis:\n",
    "\n",
    " * \n"
   ]
  },
  {
   "cell_type": "code",
   "execution_count": 34,
   "metadata": {},
   "outputs": [
    {
     "data": {
      "text/html": [
       "<div>\n",
       "<style scoped>\n",
       "    .dataframe tbody tr th:only-of-type {\n",
       "        vertical-align: middle;\n",
       "    }\n",
       "\n",
       "    .dataframe tbody tr th {\n",
       "        vertical-align: top;\n",
       "    }\n",
       "\n",
       "    .dataframe thead th {\n",
       "        text-align: right;\n",
       "    }\n",
       "</style>\n",
       "<table border=\"1\" class=\"dataframe\">\n",
       "  <thead>\n",
       "    <tr style=\"text-align: right;\">\n",
       "      <th></th>\n",
       "      <th>Cod_setor</th>\n",
       "      <th>Cod_Grandes Regi�es</th>\n",
       "      <th>Nome_Grande_Regiao</th>\n",
       "      <th>Cod_UF</th>\n",
       "      <th>Nome_da_UF</th>\n",
       "      <th>Cod_meso</th>\n",
       "      <th>Nome_da_meso</th>\n",
       "      <th>Cod_micro</th>\n",
       "      <th>Nome_da_micro</th>\n",
       "      <th>Cod_RM</th>\n",
       "      <th>...</th>\n",
       "      <th>V004</th>\n",
       "      <th>V005</th>\n",
       "      <th>V006</th>\n",
       "      <th>V007</th>\n",
       "      <th>V008</th>\n",
       "      <th>V009</th>\n",
       "      <th>V010</th>\n",
       "      <th>V011</th>\n",
       "      <th>V012</th>\n",
       "      <th>Unnamed: 33</th>\n",
       "    </tr>\n",
       "  </thead>\n",
       "  <tbody>\n",
       "    <tr>\n",
       "      <th>0</th>\n",
       "      <td>355030801000001</td>\n",
       "      <td>3</td>\n",
       "      <td>Regi�o Sudeste</td>\n",
       "      <td>35</td>\n",
       "      <td>S�o Paulo</td>\n",
       "      <td>3515</td>\n",
       "      <td>Metropolitana de S�o Paulo</td>\n",
       "      <td>35061</td>\n",
       "      <td>S�o Paulo</td>\n",
       "      <td>20</td>\n",
       "      <td>...</td>\n",
       "      <td>2.32</td>\n",
       "      <td>2091.32</td>\n",
       "      <td>8532451.78</td>\n",
       "      <td>2164.55</td>\n",
       "      <td>8673276.78</td>\n",
       "      <td>1227.41</td>\n",
       "      <td>4285771.99</td>\n",
       "      <td>1713.75</td>\n",
       "      <td>5152087.86</td>\n",
       "      <td>NaN</td>\n",
       "    </tr>\n",
       "    <tr>\n",
       "      <th>1</th>\n",
       "      <td>355030801000002</td>\n",
       "      <td>3</td>\n",
       "      <td>Regi�o Sudeste</td>\n",
       "      <td>35</td>\n",
       "      <td>S�o Paulo</td>\n",
       "      <td>3515</td>\n",
       "      <td>Metropolitana de S�o Paulo</td>\n",
       "      <td>35061</td>\n",
       "      <td>S�o Paulo</td>\n",
       "      <td>20</td>\n",
       "      <td>...</td>\n",
       "      <td>2.09</td>\n",
       "      <td>1650.09</td>\n",
       "      <td>3983441.31</td>\n",
       "      <td>1717.44</td>\n",
       "      <td>4030519.99</td>\n",
       "      <td>1045.78</td>\n",
       "      <td>2572133.32</td>\n",
       "      <td>1468.08</td>\n",
       "      <td>2991546.94</td>\n",
       "      <td>NaN</td>\n",
       "    </tr>\n",
       "    <tr>\n",
       "      <th>2</th>\n",
       "      <td>355030801000003</td>\n",
       "      <td>3</td>\n",
       "      <td>Regi�o Sudeste</td>\n",
       "      <td>35</td>\n",
       "      <td>S�o Paulo</td>\n",
       "      <td>3515</td>\n",
       "      <td>Metropolitana de S�o Paulo</td>\n",
       "      <td>35061</td>\n",
       "      <td>S�o Paulo</td>\n",
       "      <td>20</td>\n",
       "      <td>...</td>\n",
       "      <td>3.08</td>\n",
       "      <td>1280.43</td>\n",
       "      <td>5474593.06</td>\n",
       "      <td>2349.53</td>\n",
       "      <td>7553913.02</td>\n",
       "      <td>902.97</td>\n",
       "      <td>2735492.52</td>\n",
       "      <td>1786.79</td>\n",
       "      <td>3837674.74</td>\n",
       "      <td>NaN</td>\n",
       "    </tr>\n",
       "    <tr>\n",
       "      <th>3</th>\n",
       "      <td>355030801000004</td>\n",
       "      <td>3</td>\n",
       "      <td>Regi�o Sudeste</td>\n",
       "      <td>35</td>\n",
       "      <td>S�o Paulo</td>\n",
       "      <td>3515</td>\n",
       "      <td>Metropolitana de S�o Paulo</td>\n",
       "      <td>35061</td>\n",
       "      <td>S�o Paulo</td>\n",
       "      <td>20</td>\n",
       "      <td>...</td>\n",
       "      <td>2.26</td>\n",
       "      <td>1119.59</td>\n",
       "      <td>3572955.10</td>\n",
       "      <td>1859.13</td>\n",
       "      <td>4567289.50</td>\n",
       "      <td>869.09</td>\n",
       "      <td>2122409.02</td>\n",
       "      <td>1567.41</td>\n",
       "      <td>2735383.24</td>\n",
       "      <td>NaN</td>\n",
       "    </tr>\n",
       "    <tr>\n",
       "      <th>4</th>\n",
       "      <td>355030801000005</td>\n",
       "      <td>3</td>\n",
       "      <td>Regi�o Sudeste</td>\n",
       "      <td>35</td>\n",
       "      <td>S�o Paulo</td>\n",
       "      <td>3515</td>\n",
       "      <td>Metropolitana de S�o Paulo</td>\n",
       "      <td>35061</td>\n",
       "      <td>S�o Paulo</td>\n",
       "      <td>20</td>\n",
       "      <td>...</td>\n",
       "      <td>2.35</td>\n",
       "      <td>1416.90</td>\n",
       "      <td>2240207.58</td>\n",
       "      <td>1581.66</td>\n",
       "      <td>2240109.39</td>\n",
       "      <td>917.71</td>\n",
       "      <td>1570047.75</td>\n",
       "      <td>1356.35</td>\n",
       "      <td>1725877.85</td>\n",
       "      <td>NaN</td>\n",
       "    </tr>\n",
       "  </tbody>\n",
       "</table>\n",
       "<p>5 rows × 34 columns</p>\n",
       "</div>"
      ],
      "text/plain": [
       "         Cod_setor  Cod_Grandes Regi�es Nome_Grande_Regiao  Cod_UF  \\\n",
       "0  355030801000001                    3     Regi�o Sudeste      35   \n",
       "1  355030801000002                    3     Regi�o Sudeste      35   \n",
       "2  355030801000003                    3     Regi�o Sudeste      35   \n",
       "3  355030801000004                    3     Regi�o Sudeste      35   \n",
       "4  355030801000005                    3     Regi�o Sudeste      35   \n",
       "\n",
       "  Nome_da_UF   Cod_meso                Nome_da_meso  Cod_micro Nome_da_micro  \\\n",
       "0   S�o Paulo      3515  Metropolitana de S�o Paulo      35061     S�o Paulo   \n",
       "1   S�o Paulo      3515  Metropolitana de S�o Paulo      35061     S�o Paulo   \n",
       "2   S�o Paulo      3515  Metropolitana de S�o Paulo      35061     S�o Paulo   \n",
       "3   S�o Paulo      3515  Metropolitana de S�o Paulo      35061     S�o Paulo   \n",
       "4   S�o Paulo      3515  Metropolitana de S�o Paulo      35061     S�o Paulo   \n",
       "\n",
       "   Cod_RM  ... V004    V005       V006    V007       V008    V009       V010  \\\n",
       "0      20  ... 2.32 2091.32 8532451.78 2164.55 8673276.78 1227.41 4285771.99   \n",
       "1      20  ... 2.09 1650.09 3983441.31 1717.44 4030519.99 1045.78 2572133.32   \n",
       "2      20  ... 3.08 1280.43 5474593.06 2349.53 7553913.02  902.97 2735492.52   \n",
       "3      20  ... 2.26 1119.59 3572955.10 1859.13 4567289.50  869.09 2122409.02   \n",
       "4      20  ... 2.35 1416.90 2240207.58 1581.66 2240109.39  917.71 1570047.75   \n",
       "\n",
       "     V011       V012  Unnamed: 33  \n",
       "0 1713.75 5152087.86          NaN  \n",
       "1 1468.08 2991546.94          NaN  \n",
       "2 1786.79 3837674.74          NaN  \n",
       "3 1567.41 2735383.24          NaN  \n",
       "4 1356.35 1725877.85          NaN  \n",
       "\n",
       "[5 rows x 34 columns]"
      ]
     },
     "execution_count": 34,
     "metadata": {},
     "output_type": "execute_result"
    }
   ],
   "source": [
    "# Importação dos dados do IBGE\n",
    "path = 'https://gist.githubusercontent.com/tgcsantos/85f8c7b0a2edbc3e27fcad619b37d886/raw/a4954781e6bca9cb804062a3eea0b3b84679daf4/Basico_SP1.csv'\n",
    "data_ibge = pd.read_csv(path, encoding = 'UTF-8', sep = ';', decimal=',')\n",
    "data_ibge.head()"
   ]
  },
  {
   "cell_type": "code",
   "execution_count": 35,
   "metadata": {},
   "outputs": [
    {
     "name": "stdout",
     "output_type": "stream",
     "text": [
      "Cod_Grandes Regi�es: [3]\n",
      "Nome_Grande_Regiao: ['Regi�o Sudeste']\n",
      "Cod_UF: [35]\n",
      "Nome_da_UF : ['S�o Paulo']\n",
      "Cod_meso: [3515]\n",
      "Nome_da_meso: ['Metropolitana de S�o Paulo']\n",
      "Cod_micro: [35061]\n",
      "Nome_da_micro: ['S�o Paulo']\n",
      "Cod_RM: [20]\n",
      "Nome_da_RM: ['RM S�o Paulo']\n",
      "Cod_municipio: [3550308]\n",
      "Nome_do_municipio: ['S�O PAULO']\n",
      "Cod_bairro: [3550308000]\n",
      "Nome_do_bairro: ['S�O PAULO (todos os setores)']\n",
      "Situacao_setor: [1 8 2 4 3 7]\n",
      "Tipo_setor: [0 1 3 7 6 2]\n"
     ]
    }
   ],
   "source": [
    "# Analisando os valores únicos da colunas string\n",
    "cols = ['Cod_Grandes Regi�es', 'Nome_Grande_Regiao', 'Cod_UF',\n",
    "       'Nome_da_UF ', 'Cod_meso', 'Nome_da_meso', 'Cod_micro', 'Nome_da_micro',\n",
    "       'Cod_RM', 'Nome_da_RM', 'Cod_municipio', 'Nome_do_municipio',\n",
    "       'Cod_bairro', 'Nome_do_bairro', 'Situacao_setor',\n",
    "       'Tipo_setor']\n",
    "\n",
    "for col in cols:\n",
    "    print(f'{col}: {data_ibge[col].unique()}')"
   ]
  },
  {
   "cell_type": "markdown",
   "metadata": {},
   "source": [
    "* É possível verificar que todos os dados são referentes a grande região Sudeste, micro e meso região de São Paulo e consequentemente possuem os mesmos códigos. Dessa forma podemos começar removendo essas colunas por não apresentarem informações relevantes a análise e integração com os dados dos imóveis."
   ]
  },
  {
   "cell_type": "code",
   "execution_count": 36,
   "metadata": {},
   "outputs": [
    {
     "data": {
      "text/html": [
       "<div>\n",
       "<style scoped>\n",
       "    .dataframe tbody tr th:only-of-type {\n",
       "        vertical-align: middle;\n",
       "    }\n",
       "\n",
       "    .dataframe tbody tr th {\n",
       "        vertical-align: top;\n",
       "    }\n",
       "\n",
       "    .dataframe thead th {\n",
       "        text-align: right;\n",
       "    }\n",
       "</style>\n",
       "<table border=\"1\" class=\"dataframe\">\n",
       "  <thead>\n",
       "    <tr style=\"text-align: right;\">\n",
       "      <th></th>\n",
       "      <th>Cod_setor</th>\n",
       "      <th>Cod_distrito</th>\n",
       "      <th>Nome_do_distrito</th>\n",
       "      <th>Cod_subdistrito</th>\n",
       "      <th>Nome_do_subdistrito</th>\n",
       "      <th>Situacao_setor</th>\n",
       "      <th>Tipo_setor</th>\n",
       "      <th>V001</th>\n",
       "      <th>V002</th>\n",
       "      <th>V003</th>\n",
       "      <th>V004</th>\n",
       "      <th>V005</th>\n",
       "      <th>V006</th>\n",
       "      <th>V007</th>\n",
       "      <th>V008</th>\n",
       "      <th>V009</th>\n",
       "      <th>V010</th>\n",
       "      <th>V011</th>\n",
       "      <th>V012</th>\n",
       "    </tr>\n",
       "  </thead>\n",
       "  <tbody>\n",
       "    <tr>\n",
       "      <th>0</th>\n",
       "      <td>355030801000001</td>\n",
       "      <td>355030801</td>\n",
       "      <td>�GUA RASA</td>\n",
       "      <td>35503080100</td>\n",
       "      <td>�GUA RASA</td>\n",
       "      <td>1</td>\n",
       "      <td>0</td>\n",
       "      <td>266.00</td>\n",
       "      <td>800.00</td>\n",
       "      <td>3.01</td>\n",
       "      <td>2.32</td>\n",
       "      <td>2091.32</td>\n",
       "      <td>8532451.78</td>\n",
       "      <td>2164.55</td>\n",
       "      <td>8673276.78</td>\n",
       "      <td>1227.41</td>\n",
       "      <td>4285771.99</td>\n",
       "      <td>1713.75</td>\n",
       "      <td>5152087.86</td>\n",
       "    </tr>\n",
       "    <tr>\n",
       "      <th>1</th>\n",
       "      <td>355030801000002</td>\n",
       "      <td>355030801</td>\n",
       "      <td>�GUA RASA</td>\n",
       "      <td>35503080100</td>\n",
       "      <td>�GUA RASA</td>\n",
       "      <td>1</td>\n",
       "      <td>0</td>\n",
       "      <td>306.00</td>\n",
       "      <td>913.00</td>\n",
       "      <td>2.98</td>\n",
       "      <td>2.09</td>\n",
       "      <td>1650.09</td>\n",
       "      <td>3983441.31</td>\n",
       "      <td>1717.44</td>\n",
       "      <td>4030519.99</td>\n",
       "      <td>1045.78</td>\n",
       "      <td>2572133.32</td>\n",
       "      <td>1468.08</td>\n",
       "      <td>2991546.94</td>\n",
       "    </tr>\n",
       "    <tr>\n",
       "      <th>2</th>\n",
       "      <td>355030801000003</td>\n",
       "      <td>355030801</td>\n",
       "      <td>�GUA RASA</td>\n",
       "      <td>35503080100</td>\n",
       "      <td>�GUA RASA</td>\n",
       "      <td>1</td>\n",
       "      <td>0</td>\n",
       "      <td>189.00</td>\n",
       "      <td>625.00</td>\n",
       "      <td>3.31</td>\n",
       "      <td>3.08</td>\n",
       "      <td>1280.43</td>\n",
       "      <td>5474593.06</td>\n",
       "      <td>2349.53</td>\n",
       "      <td>7553913.02</td>\n",
       "      <td>902.97</td>\n",
       "      <td>2735492.52</td>\n",
       "      <td>1786.79</td>\n",
       "      <td>3837674.74</td>\n",
       "    </tr>\n",
       "    <tr>\n",
       "      <th>3</th>\n",
       "      <td>355030801000004</td>\n",
       "      <td>355030801</td>\n",
       "      <td>�GUA RASA</td>\n",
       "      <td>35503080100</td>\n",
       "      <td>�GUA RASA</td>\n",
       "      <td>1</td>\n",
       "      <td>0</td>\n",
       "      <td>181.00</td>\n",
       "      <td>572.00</td>\n",
       "      <td>3.16</td>\n",
       "      <td>2.26</td>\n",
       "      <td>1119.59</td>\n",
       "      <td>3572955.10</td>\n",
       "      <td>1859.13</td>\n",
       "      <td>4567289.50</td>\n",
       "      <td>869.09</td>\n",
       "      <td>2122409.02</td>\n",
       "      <td>1567.41</td>\n",
       "      <td>2735383.24</td>\n",
       "    </tr>\n",
       "    <tr>\n",
       "      <th>4</th>\n",
       "      <td>355030801000005</td>\n",
       "      <td>355030801</td>\n",
       "      <td>�GUA RASA</td>\n",
       "      <td>35503080100</td>\n",
       "      <td>�GUA RASA</td>\n",
       "      <td>1</td>\n",
       "      <td>0</td>\n",
       "      <td>240.00</td>\n",
       "      <td>754.00</td>\n",
       "      <td>3.14</td>\n",
       "      <td>2.35</td>\n",
       "      <td>1416.90</td>\n",
       "      <td>2240207.58</td>\n",
       "      <td>1581.66</td>\n",
       "      <td>2240109.39</td>\n",
       "      <td>917.71</td>\n",
       "      <td>1570047.75</td>\n",
       "      <td>1356.35</td>\n",
       "      <td>1725877.85</td>\n",
       "    </tr>\n",
       "  </tbody>\n",
       "</table>\n",
       "</div>"
      ],
      "text/plain": [
       "         Cod_setor  Cod_distrito Nome_do_distrito  Cod_subdistrito  \\\n",
       "0  355030801000001     355030801        �GUA RASA      35503080100   \n",
       "1  355030801000002     355030801        �GUA RASA      35503080100   \n",
       "2  355030801000003     355030801        �GUA RASA      35503080100   \n",
       "3  355030801000004     355030801        �GUA RASA      35503080100   \n",
       "4  355030801000005     355030801        �GUA RASA      35503080100   \n",
       "\n",
       "  Nome_do_subdistrito  Situacao_setor  Tipo_setor   V001   V002  V003  V004  \\\n",
       "0           �GUA RASA               1           0 266.00 800.00  3.01  2.32   \n",
       "1           �GUA RASA               1           0 306.00 913.00  2.98  2.09   \n",
       "2           �GUA RASA               1           0 189.00 625.00  3.31  3.08   \n",
       "3           �GUA RASA               1           0 181.00 572.00  3.16  2.26   \n",
       "4           �GUA RASA               1           0 240.00 754.00  3.14  2.35   \n",
       "\n",
       "     V005       V006    V007       V008    V009       V010    V011       V012  \n",
       "0 2091.32 8532451.78 2164.55 8673276.78 1227.41 4285771.99 1713.75 5152087.86  \n",
       "1 1650.09 3983441.31 1717.44 4030519.99 1045.78 2572133.32 1468.08 2991546.94  \n",
       "2 1280.43 5474593.06 2349.53 7553913.02  902.97 2735492.52 1786.79 3837674.74  \n",
       "3 1119.59 3572955.10 1859.13 4567289.50  869.09 2122409.02 1567.41 2735383.24  \n",
       "4 1416.90 2240207.58 1581.66 2240109.39  917.71 1570047.75 1356.35 1725877.85  "
      ]
     },
     "execution_count": 36,
     "metadata": {},
     "output_type": "execute_result"
    }
   ],
   "source": [
    "cols_to_drop = ['Cod_Grandes Regi�es', 'Nome_Grande_Regiao', 'Cod_UF',\n",
    "       'Nome_da_UF ', 'Cod_meso', 'Nome_da_meso', 'Cod_micro', 'Nome_da_micro',\n",
    "       'Cod_RM', 'Nome_da_RM', 'Cod_municipio', 'Nome_do_municipio',\n",
    "       'Cod_bairro', 'Nome_do_bairro', 'Unnamed: 33']\n",
    "\n",
    "data_ibge_vs1 = data_ibge.drop(columns = cols_to_drop, axis = 1)\n",
    "data_ibge_vs1.head()"
   ]
  },
  {
   "cell_type": "code",
   "execution_count": 37,
   "metadata": {},
   "outputs": [
    {
     "data": {
      "text/plain": [
       "True"
      ]
     },
     "execution_count": 37,
     "metadata": {},
     "output_type": "execute_result"
    }
   ],
   "source": [
    "# Verificando se as variáveis Nome_do_distrito e Nome_do_subdistrito possuem valores iguais. Caso sejam iguais podemos remover uma delas.\n",
    "data_ibge_vs1['Nome_do_distrito'].equals(data_ibge_vs1['Nome_do_subdistrito'])"
   ]
  },
  {
   "cell_type": "code",
   "execution_count": 38,
   "metadata": {},
   "outputs": [
    {
     "data": {
      "text/html": [
       "<div>\n",
       "<style scoped>\n",
       "    .dataframe tbody tr th:only-of-type {\n",
       "        vertical-align: middle;\n",
       "    }\n",
       "\n",
       "    .dataframe tbody tr th {\n",
       "        vertical-align: top;\n",
       "    }\n",
       "\n",
       "    .dataframe thead th {\n",
       "        text-align: right;\n",
       "    }\n",
       "</style>\n",
       "<table border=\"1\" class=\"dataframe\">\n",
       "  <thead>\n",
       "    <tr style=\"text-align: right;\">\n",
       "      <th></th>\n",
       "      <th>Cod_setor</th>\n",
       "      <th>Cod_distrito</th>\n",
       "      <th>Nome_do_distrito</th>\n",
       "      <th>Cod_subdistrito</th>\n",
       "      <th>Situacao_setor</th>\n",
       "      <th>Tipo_setor</th>\n",
       "      <th>V001</th>\n",
       "      <th>V002</th>\n",
       "      <th>V003</th>\n",
       "      <th>V004</th>\n",
       "      <th>V005</th>\n",
       "      <th>V006</th>\n",
       "      <th>V007</th>\n",
       "      <th>V008</th>\n",
       "      <th>V009</th>\n",
       "      <th>V010</th>\n",
       "      <th>V011</th>\n",
       "      <th>V012</th>\n",
       "    </tr>\n",
       "  </thead>\n",
       "  <tbody>\n",
       "    <tr>\n",
       "      <th>0</th>\n",
       "      <td>355030801000001</td>\n",
       "      <td>355030801</td>\n",
       "      <td>�GUA RASA</td>\n",
       "      <td>35503080100</td>\n",
       "      <td>1</td>\n",
       "      <td>0</td>\n",
       "      <td>266.00</td>\n",
       "      <td>800.00</td>\n",
       "      <td>3.01</td>\n",
       "      <td>2.32</td>\n",
       "      <td>2091.32</td>\n",
       "      <td>8532451.78</td>\n",
       "      <td>2164.55</td>\n",
       "      <td>8673276.78</td>\n",
       "      <td>1227.41</td>\n",
       "      <td>4285771.99</td>\n",
       "      <td>1713.75</td>\n",
       "      <td>5152087.86</td>\n",
       "    </tr>\n",
       "    <tr>\n",
       "      <th>1</th>\n",
       "      <td>355030801000002</td>\n",
       "      <td>355030801</td>\n",
       "      <td>�GUA RASA</td>\n",
       "      <td>35503080100</td>\n",
       "      <td>1</td>\n",
       "      <td>0</td>\n",
       "      <td>306.00</td>\n",
       "      <td>913.00</td>\n",
       "      <td>2.98</td>\n",
       "      <td>2.09</td>\n",
       "      <td>1650.09</td>\n",
       "      <td>3983441.31</td>\n",
       "      <td>1717.44</td>\n",
       "      <td>4030519.99</td>\n",
       "      <td>1045.78</td>\n",
       "      <td>2572133.32</td>\n",
       "      <td>1468.08</td>\n",
       "      <td>2991546.94</td>\n",
       "    </tr>\n",
       "    <tr>\n",
       "      <th>2</th>\n",
       "      <td>355030801000003</td>\n",
       "      <td>355030801</td>\n",
       "      <td>�GUA RASA</td>\n",
       "      <td>35503080100</td>\n",
       "      <td>1</td>\n",
       "      <td>0</td>\n",
       "      <td>189.00</td>\n",
       "      <td>625.00</td>\n",
       "      <td>3.31</td>\n",
       "      <td>3.08</td>\n",
       "      <td>1280.43</td>\n",
       "      <td>5474593.06</td>\n",
       "      <td>2349.53</td>\n",
       "      <td>7553913.02</td>\n",
       "      <td>902.97</td>\n",
       "      <td>2735492.52</td>\n",
       "      <td>1786.79</td>\n",
       "      <td>3837674.74</td>\n",
       "    </tr>\n",
       "    <tr>\n",
       "      <th>3</th>\n",
       "      <td>355030801000004</td>\n",
       "      <td>355030801</td>\n",
       "      <td>�GUA RASA</td>\n",
       "      <td>35503080100</td>\n",
       "      <td>1</td>\n",
       "      <td>0</td>\n",
       "      <td>181.00</td>\n",
       "      <td>572.00</td>\n",
       "      <td>3.16</td>\n",
       "      <td>2.26</td>\n",
       "      <td>1119.59</td>\n",
       "      <td>3572955.10</td>\n",
       "      <td>1859.13</td>\n",
       "      <td>4567289.50</td>\n",
       "      <td>869.09</td>\n",
       "      <td>2122409.02</td>\n",
       "      <td>1567.41</td>\n",
       "      <td>2735383.24</td>\n",
       "    </tr>\n",
       "    <tr>\n",
       "      <th>4</th>\n",
       "      <td>355030801000005</td>\n",
       "      <td>355030801</td>\n",
       "      <td>�GUA RASA</td>\n",
       "      <td>35503080100</td>\n",
       "      <td>1</td>\n",
       "      <td>0</td>\n",
       "      <td>240.00</td>\n",
       "      <td>754.00</td>\n",
       "      <td>3.14</td>\n",
       "      <td>2.35</td>\n",
       "      <td>1416.90</td>\n",
       "      <td>2240207.58</td>\n",
       "      <td>1581.66</td>\n",
       "      <td>2240109.39</td>\n",
       "      <td>917.71</td>\n",
       "      <td>1570047.75</td>\n",
       "      <td>1356.35</td>\n",
       "      <td>1725877.85</td>\n",
       "    </tr>\n",
       "  </tbody>\n",
       "</table>\n",
       "</div>"
      ],
      "text/plain": [
       "         Cod_setor  Cod_distrito Nome_do_distrito  Cod_subdistrito  \\\n",
       "0  355030801000001     355030801        �GUA RASA      35503080100   \n",
       "1  355030801000002     355030801        �GUA RASA      35503080100   \n",
       "2  355030801000003     355030801        �GUA RASA      35503080100   \n",
       "3  355030801000004     355030801        �GUA RASA      35503080100   \n",
       "4  355030801000005     355030801        �GUA RASA      35503080100   \n",
       "\n",
       "   Situacao_setor  Tipo_setor   V001   V002  V003  V004    V005       V006  \\\n",
       "0               1           0 266.00 800.00  3.01  2.32 2091.32 8532451.78   \n",
       "1               1           0 306.00 913.00  2.98  2.09 1650.09 3983441.31   \n",
       "2               1           0 189.00 625.00  3.31  3.08 1280.43 5474593.06   \n",
       "3               1           0 181.00 572.00  3.16  2.26 1119.59 3572955.10   \n",
       "4               1           0 240.00 754.00  3.14  2.35 1416.90 2240207.58   \n",
       "\n",
       "     V007       V008    V009       V010    V011       V012  \n",
       "0 2164.55 8673276.78 1227.41 4285771.99 1713.75 5152087.86  \n",
       "1 1717.44 4030519.99 1045.78 2572133.32 1468.08 2991546.94  \n",
       "2 2349.53 7553913.02  902.97 2735492.52 1786.79 3837674.74  \n",
       "3 1859.13 4567289.50  869.09 2122409.02 1567.41 2735383.24  \n",
       "4 1581.66 2240109.39  917.71 1570047.75 1356.35 1725877.85  "
      ]
     },
     "execution_count": 38,
     "metadata": {},
     "output_type": "execute_result"
    }
   ],
   "source": [
    "data_ibge_vs1.drop(columns = 'Nome_do_subdistrito', axis = 1, inplace = True)\n",
    "data_ibge_vs1.head()"
   ]
  },
  {
   "cell_type": "code",
   "execution_count": 39,
   "metadata": {},
   "outputs": [
    {
     "data": {
      "text/plain": [
       "array(['AGUA RASA', 'ALTO DE PINHEIROS', 'ANHANGUERA', 'ARICANDUVA',\n",
       "       'ARTUR ALVIM', 'BARRA FUNDA', 'BELA VISTA', 'BELAM', 'BOM RETIRO',\n",
       "       'BRAS', 'BRASILANDIA', 'BUTANTA', 'CACHOEIRINHA', 'CAMBUCI',\n",
       "       'CAMPO BELO', 'CAMPO GRANDE', 'CAMPO LIMPO', 'CANGAIBA',\n",
       "       'CAPAO REDONDO', 'CARRAO', 'CASA VERDE', 'CIDADE ADEMAR',\n",
       "       'CIDADE DUTRA', 'CIDADE LIDER', 'CIDADE TIRADENTES', 'CONSOLAAAO',\n",
       "       'CURSINO', 'ERMELINO MATARAZZO', 'FREGUESIA DO A', 'GRAJAA',\n",
       "       'GUAIANASES', 'MOEMA', 'IGUATEMI', 'IPIRANGA', 'ITAIM BIBI',\n",
       "       'ITAIM PAULISTA', 'ITAQUERA', 'JABAQUARA', 'JAAANA', 'JAGUARA',\n",
       "       'JARAGUA', 'JARDIM ANGELA', 'JARDIM HELENA', 'JARDIM PAULISTA',\n",
       "       'JARDIM SAO LUAS', 'JOSA BONIFACIO', 'LAPA', 'LIBERDADE', 'LIMAO',\n",
       "       'MANDAQUI', 'MARSILAC', 'MOOCA', 'MORUMBI', 'PARELHEIROS', 'PARI',\n",
       "       'PARQUE DO CARMO', 'PEDREIRA', 'PENHA', 'PERDIZES', 'PERUS',\n",
       "       'PINHEIROS', 'PIRITUBA', 'PONTE RASA', 'RAPOSO TAVARES',\n",
       "       'REPABLICA', 'RIO PEQUENO', 'SACOMA', 'SANTA CECALIA', 'SANTANA',\n",
       "       'SANTO AMARO', 'SAO LUCAS', 'SAO MATEUS', 'SAO MIGUEL',\n",
       "       'SAO RAFAEL', 'SAPOPEMBA', 'SAADE', 'SA', 'SOCORRO', 'TATUAPA',\n",
       "       'TREMEMBA', 'TUCURUVI', 'VILA ANDRADE', 'VILA CURUAA',\n",
       "       'VILA FORMOSA', 'VILA GUILHERME', 'VILA JACUA', 'VILA LEOPOLDINA',\n",
       "       'VILA MARIA', 'VILA MARIANA', 'VILA MATILDE', 'VILA MEDEIROS',\n",
       "       'VILA PRUDENTE', 'VILA SANIA', 'SAO DOMINGOS', 'LAJEADO'],\n",
       "      dtype=object)"
      ]
     },
     "execution_count": 39,
     "metadata": {},
     "output_type": "execute_result"
    }
   ],
   "source": [
    "# Solução não definitiva\n",
    "data_ibge_vs1['Nome_do_distrito'] = data_ibge_vs1['Nome_do_distrito'].str.replace(u\"\\uFFFD\", \"A\")\n",
    "data_ibge_vs1['Nome_do_distrito'].unique()"
   ]
  },
  {
   "cell_type": "code",
   "execution_count": 46,
   "metadata": {},
   "outputs": [
    {
     "data": {
      "text/html": [
       "<div>\n",
       "<style scoped>\n",
       "    .dataframe tbody tr th:only-of-type {\n",
       "        vertical-align: middle;\n",
       "    }\n",
       "\n",
       "    .dataframe tbody tr th {\n",
       "        vertical-align: top;\n",
       "    }\n",
       "\n",
       "    .dataframe thead th {\n",
       "        text-align: right;\n",
       "    }\n",
       "</style>\n",
       "<table border=\"1\" class=\"dataframe\">\n",
       "  <thead>\n",
       "    <tr style=\"text-align: right;\">\n",
       "      <th></th>\n",
       "      <th>count</th>\n",
       "      <th>mean</th>\n",
       "      <th>std</th>\n",
       "      <th>min</th>\n",
       "      <th>25%</th>\n",
       "      <th>50%</th>\n",
       "      <th>75%</th>\n",
       "      <th>max</th>\n",
       "    </tr>\n",
       "  </thead>\n",
       "  <tbody>\n",
       "    <tr>\n",
       "      <th>Cod_setor</th>\n",
       "      <td>18363.00</td>\n",
       "      <td>355030848919799.69</td>\n",
       "      <td>26356206.31</td>\n",
       "      <td>355030801000001.00</td>\n",
       "      <td>355030827000076.50</td>\n",
       "      <td>355030846000144.00</td>\n",
       "      <td>355030872000033.50</td>\n",
       "      <td>355030896000247.00</td>\n",
       "    </tr>\n",
       "    <tr>\n",
       "      <th>Cod_distrito</th>\n",
       "      <td>18363.00</td>\n",
       "      <td>355030848.92</td>\n",
       "      <td>26.36</td>\n",
       "      <td>355030801.00</td>\n",
       "      <td>355030827.00</td>\n",
       "      <td>355030846.00</td>\n",
       "      <td>355030872.00</td>\n",
       "      <td>355030896.00</td>\n",
       "    </tr>\n",
       "    <tr>\n",
       "      <th>Cod_subdistrito</th>\n",
       "      <td>18363.00</td>\n",
       "      <td>35503084891.97</td>\n",
       "      <td>2635.62</td>\n",
       "      <td>35503080100.00</td>\n",
       "      <td>35503082700.00</td>\n",
       "      <td>35503084600.00</td>\n",
       "      <td>35503087200.00</td>\n",
       "      <td>35503089600.00</td>\n",
       "    </tr>\n",
       "    <tr>\n",
       "      <th>Situacao_setor</th>\n",
       "      <td>18363.00</td>\n",
       "      <td>1.15</td>\n",
       "      <td>0.95</td>\n",
       "      <td>1.00</td>\n",
       "      <td>1.00</td>\n",
       "      <td>1.00</td>\n",
       "      <td>1.00</td>\n",
       "      <td>8.00</td>\n",
       "    </tr>\n",
       "    <tr>\n",
       "      <th>Tipo_setor</th>\n",
       "      <td>18363.00</td>\n",
       "      <td>0.12</td>\n",
       "      <td>0.38</td>\n",
       "      <td>0.00</td>\n",
       "      <td>0.00</td>\n",
       "      <td>0.00</td>\n",
       "      <td>0.00</td>\n",
       "      <td>7.00</td>\n",
       "    </tr>\n",
       "    <tr>\n",
       "      <th>V001</th>\n",
       "      <td>18333.00</td>\n",
       "      <td>194.96</td>\n",
       "      <td>93.52</td>\n",
       "      <td>1.00</td>\n",
       "      <td>134.00</td>\n",
       "      <td>190.00</td>\n",
       "      <td>249.00</td>\n",
       "      <td>954.00</td>\n",
       "    </tr>\n",
       "    <tr>\n",
       "      <th>V002</th>\n",
       "      <td>18333.00</td>\n",
       "      <td>611.45</td>\n",
       "      <td>313.26</td>\n",
       "      <td>1.00</td>\n",
       "      <td>406.00</td>\n",
       "      <td>583.00</td>\n",
       "      <td>777.00</td>\n",
       "      <td>3252.00</td>\n",
       "    </tr>\n",
       "    <tr>\n",
       "      <th>V003</th>\n",
       "      <td>18333.00</td>\n",
       "      <td>3.16</td>\n",
       "      <td>0.50</td>\n",
       "      <td>1.00</td>\n",
       "      <td>2.91</td>\n",
       "      <td>3.21</td>\n",
       "      <td>3.46</td>\n",
       "      <td>8.00</td>\n",
       "    </tr>\n",
       "    <tr>\n",
       "      <th>V004</th>\n",
       "      <td>18333.00</td>\n",
       "      <td>2.35</td>\n",
       "      <td>1.00</td>\n",
       "      <td>0.00</td>\n",
       "      <td>1.77</td>\n",
       "      <td>2.24</td>\n",
       "      <td>2.74</td>\n",
       "      <td>32.90</td>\n",
       "    </tr>\n",
       "    <tr>\n",
       "      <th>V005</th>\n",
       "      <td>18333.00</td>\n",
       "      <td>2160.19</td>\n",
       "      <td>2602.11</td>\n",
       "      <td>0.00</td>\n",
       "      <td>814.13</td>\n",
       "      <td>1212.70</td>\n",
       "      <td>2411.54</td>\n",
       "      <td>73312.50</td>\n",
       "    </tr>\n",
       "    <tr>\n",
       "      <th>V006</th>\n",
       "      <td>18333.00</td>\n",
       "      <td>30963350.26</td>\n",
       "      <td>302008695.61</td>\n",
       "      <td>0.00</td>\n",
       "      <td>534562.34</td>\n",
       "      <td>1598618.48</td>\n",
       "      <td>7020552.81</td>\n",
       "      <td>19436679037.42</td>\n",
       "    </tr>\n",
       "    <tr>\n",
       "      <th>V007</th>\n",
       "      <td>18324.00</td>\n",
       "      <td>2491.85</td>\n",
       "      <td>2865.92</td>\n",
       "      <td>120.00</td>\n",
       "      <td>1013.55</td>\n",
       "      <td>1435.89</td>\n",
       "      <td>2736.29</td>\n",
       "      <td>78200.00</td>\n",
       "    </tr>\n",
       "    <tr>\n",
       "      <th>V008</th>\n",
       "      <td>18324.00</td>\n",
       "      <td>35496528.16</td>\n",
       "      <td>429427060.86</td>\n",
       "      <td>0.00</td>\n",
       "      <td>474800.33</td>\n",
       "      <td>1607897.40</td>\n",
       "      <td>7183471.54</td>\n",
       "      <td>35468624352.67</td>\n",
       "    </tr>\n",
       "    <tr>\n",
       "      <th>V009</th>\n",
       "      <td>18363.00</td>\n",
       "      <td>1413.45</td>\n",
       "      <td>1515.49</td>\n",
       "      <td>0.00</td>\n",
       "      <td>549.41</td>\n",
       "      <td>817.35</td>\n",
       "      <td>1619.34</td>\n",
       "      <td>30825.93</td>\n",
       "    </tr>\n",
       "    <tr>\n",
       "      <th>V010</th>\n",
       "      <td>18363.00</td>\n",
       "      <td>19535108.05</td>\n",
       "      <td>186258893.32</td>\n",
       "      <td>0.00</td>\n",
       "      <td>438470.97</td>\n",
       "      <td>1165356.88</td>\n",
       "      <td>5066878.57</td>\n",
       "      <td>13108974646.24</td>\n",
       "    </tr>\n",
       "    <tr>\n",
       "      <th>V011</th>\n",
       "      <td>18352.00</td>\n",
       "      <td>2059.78</td>\n",
       "      <td>2102.09</td>\n",
       "      <td>219.01</td>\n",
       "      <td>918.07</td>\n",
       "      <td>1250.55</td>\n",
       "      <td>2270.89</td>\n",
       "      <td>47560.00</td>\n",
       "    </tr>\n",
       "    <tr>\n",
       "      <th>V012</th>\n",
       "      <td>18352.00</td>\n",
       "      <td>26809984.07</td>\n",
       "      <td>328923049.35</td>\n",
       "      <td>0.00</td>\n",
       "      <td>394630.85</td>\n",
       "      <td>1256365.13</td>\n",
       "      <td>5585670.79</td>\n",
       "      <td>28642067613.82</td>\n",
       "    </tr>\n",
       "  </tbody>\n",
       "</table>\n",
       "</div>"
      ],
      "text/plain": [
       "                   count               mean          std                min  \\\n",
       "Cod_setor       18363.00 355030848919799.69  26356206.31 355030801000001.00   \n",
       "Cod_distrito    18363.00       355030848.92        26.36       355030801.00   \n",
       "Cod_subdistrito 18363.00     35503084891.97      2635.62     35503080100.00   \n",
       "Situacao_setor  18363.00               1.15         0.95               1.00   \n",
       "Tipo_setor      18363.00               0.12         0.38               0.00   \n",
       "V001            18333.00             194.96        93.52               1.00   \n",
       "V002            18333.00             611.45       313.26               1.00   \n",
       "V003            18333.00               3.16         0.50               1.00   \n",
       "V004            18333.00               2.35         1.00               0.00   \n",
       "V005            18333.00            2160.19      2602.11               0.00   \n",
       "V006            18333.00        30963350.26 302008695.61               0.00   \n",
       "V007            18324.00            2491.85      2865.92             120.00   \n",
       "V008            18324.00        35496528.16 429427060.86               0.00   \n",
       "V009            18363.00            1413.45      1515.49               0.00   \n",
       "V010            18363.00        19535108.05 186258893.32               0.00   \n",
       "V011            18352.00            2059.78      2102.09             219.01   \n",
       "V012            18352.00        26809984.07 328923049.35               0.00   \n",
       "\n",
       "                               25%                50%                75%  \\\n",
       "Cod_setor       355030827000076.50 355030846000144.00 355030872000033.50   \n",
       "Cod_distrito          355030827.00       355030846.00       355030872.00   \n",
       "Cod_subdistrito     35503082700.00     35503084600.00     35503087200.00   \n",
       "Situacao_setor                1.00               1.00               1.00   \n",
       "Tipo_setor                    0.00               0.00               0.00   \n",
       "V001                        134.00             190.00             249.00   \n",
       "V002                        406.00             583.00             777.00   \n",
       "V003                          2.91               3.21               3.46   \n",
       "V004                          1.77               2.24               2.74   \n",
       "V005                        814.13            1212.70            2411.54   \n",
       "V006                     534562.34         1598618.48         7020552.81   \n",
       "V007                       1013.55            1435.89            2736.29   \n",
       "V008                     474800.33         1607897.40         7183471.54   \n",
       "V009                        549.41             817.35            1619.34   \n",
       "V010                     438470.97         1165356.88         5066878.57   \n",
       "V011                        918.07            1250.55            2270.89   \n",
       "V012                     394630.85         1256365.13         5585670.79   \n",
       "\n",
       "                               max  \n",
       "Cod_setor       355030896000247.00  \n",
       "Cod_distrito          355030896.00  \n",
       "Cod_subdistrito     35503089600.00  \n",
       "Situacao_setor                8.00  \n",
       "Tipo_setor                    7.00  \n",
       "V001                        954.00  \n",
       "V002                       3252.00  \n",
       "V003                          8.00  \n",
       "V004                         32.90  \n",
       "V005                      73312.50  \n",
       "V006                19436679037.42  \n",
       "V007                      78200.00  \n",
       "V008                35468624352.67  \n",
       "V009                      30825.93  \n",
       "V010                13108974646.24  \n",
       "V011                      47560.00  \n",
       "V012                28642067613.82  "
      ]
     },
     "execution_count": 46,
     "metadata": {},
     "output_type": "execute_result"
    }
   ],
   "source": [
    "data_ibge_vs1.describe().T"
   ]
  },
  {
   "cell_type": "markdown",
   "metadata": {},
   "source": [
    "### **Desafios da Aula 1**"
   ]
  },
  {
   "cell_type": "code",
   "execution_count": 41,
   "metadata": {},
   "outputs": [
    {
     "data": {
      "image/png": "[encoded data removed]",
      "text/plain": [
       "<Figure size 1152x576 with 4 Axes>"
      ]
     },
     "metadata": {
      "needs_background": "light"
     },
     "output_type": "display_data"
    }
   ],
   "source": [
    "# 1 - Realizar a média da metragem para cada um dos bairros. (Proposto pelo Paulo) + quartos, vagas e banheiros\n",
    "'''Foram selecionandos apenas os 10 bairros com as maiores medias por conta do grande numero de bairros'''\n",
    "media_metragem_bairro = data.groupby('Bairro').mean()\n",
    "\n",
    "cols = list(media_metragem_bairro.columns)\n",
    "\n",
    "for n, col in enumerate(cols):\n",
    "\n",
    "  ax = plt.subplot(2,2, n + 1)\n",
    "\n",
    "  (media_metragem_bairro[col]\n",
    "   .sort_values(ascending= False)[1:11]  # exclusao de possiveis outliers\n",
    "   .plot(figsize = (16,8), ax = ax))\n",
    "  \n",
    "  ax.set_title(col.upper())\n",
    "  ax.tick_params(axis = 'x', rotation = 25)\n",
    "\n",
    "plt.tight_layout()"
   ]
  },
  {
   "cell_type": "code",
   "execution_count": 42,
   "metadata": {},
   "outputs": [
    {
     "data": {
      "text/html": [
       "<div>\n",
       "<style scoped>\n",
       "    .dataframe tbody tr th:only-of-type {\n",
       "        vertical-align: middle;\n",
       "    }\n",
       "\n",
       "    .dataframe tbody tr th {\n",
       "        vertical-align: top;\n",
       "    }\n",
       "\n",
       "    .dataframe thead th {\n",
       "        text-align: right;\n",
       "    }\n",
       "</style>\n",
       "<table border=\"1\" class=\"dataframe\">\n",
       "  <thead>\n",
       "    <tr style=\"text-align: right;\">\n",
       "      <th></th>\n",
       "      <th>Rua</th>\n",
       "      <th>Bairro</th>\n",
       "      <th>Cidade</th>\n",
       "      <th>Metragem</th>\n",
       "      <th>Quartos</th>\n",
       "      <th>Banheiros</th>\n",
       "      <th>Vagas</th>\n",
       "      <th>Valor</th>\n",
       "      <th>Moeda</th>\n",
       "      <th>Valor_anuncio</th>\n",
       "      <th>Tipo_anuncio</th>\n",
       "    </tr>\n",
       "  </thead>\n",
       "  <tbody>\n",
       "    <tr>\n",
       "      <th>100</th>\n",
       "      <td>Rua Pero Correia</td>\n",
       "      <td>Vila Mariana</td>\n",
       "      <td>São Paulo</td>\n",
       "      <td>250</td>\n",
       "      <td>3</td>\n",
       "      <td>3</td>\n",
       "      <td>1</td>\n",
       "      <td>R$ 1.350.000</td>\n",
       "      <td>R$</td>\n",
       "      <td>1.350.000</td>\n",
       "      <td>None</td>\n",
       "    </tr>\n",
       "    <tr>\n",
       "      <th>120</th>\n",
       "      <td>Praça Doutor Carvalho Franco</td>\n",
       "      <td>Vila Mariana</td>\n",
       "      <td>São Paulo</td>\n",
       "      <td>250</td>\n",
       "      <td>3</td>\n",
       "      <td>5</td>\n",
       "      <td>2</td>\n",
       "      <td>R$ 2.450.000</td>\n",
       "      <td>R$</td>\n",
       "      <td>2.450.000</td>\n",
       "      <td>None</td>\n",
       "    </tr>\n",
       "    <tr>\n",
       "      <th>155</th>\n",
       "      <td>Rua Professor João Marinho</td>\n",
       "      <td>Vila Mariana</td>\n",
       "      <td>São Paulo</td>\n",
       "      <td>170</td>\n",
       "      <td>3</td>\n",
       "      <td>4</td>\n",
       "      <td>2</td>\n",
       "      <td>R$ 1.490.000</td>\n",
       "      <td>R$</td>\n",
       "      <td>1.490.000</td>\n",
       "      <td>None</td>\n",
       "    </tr>\n",
       "    <tr>\n",
       "      <th>160</th>\n",
       "      <td>NaN</td>\n",
       "      <td>Vila Mariana</td>\n",
       "      <td>São Paulo</td>\n",
       "      <td>228</td>\n",
       "      <td>4</td>\n",
       "      <td>5</td>\n",
       "      <td>3</td>\n",
       "      <td>R$ 2.200.000</td>\n",
       "      <td>R$</td>\n",
       "      <td>2.200.000</td>\n",
       "      <td>None</td>\n",
       "    </tr>\n",
       "    <tr>\n",
       "      <th>334</th>\n",
       "      <td>Rua Pero Correia, 892</td>\n",
       "      <td>Vila Mariana</td>\n",
       "      <td>São Paulo</td>\n",
       "      <td>350</td>\n",
       "      <td>6</td>\n",
       "      <td>4</td>\n",
       "      <td>10</td>\n",
       "      <td>R$ 1.700.000</td>\n",
       "      <td>R$</td>\n",
       "      <td>1.700.000</td>\n",
       "      <td>None</td>\n",
       "    </tr>\n",
       "    <tr>\n",
       "      <th>...</th>\n",
       "      <td>...</td>\n",
       "      <td>...</td>\n",
       "      <td>...</td>\n",
       "      <td>...</td>\n",
       "      <td>...</td>\n",
       "      <td>...</td>\n",
       "      <td>...</td>\n",
       "      <td>...</td>\n",
       "      <td>...</td>\n",
       "      <td>...</td>\n",
       "      <td>...</td>\n",
       "    </tr>\n",
       "    <tr>\n",
       "      <th>9645</th>\n",
       "      <td>Rua Sousa Ramos</td>\n",
       "      <td>Vila Mariana</td>\n",
       "      <td>São Paulo</td>\n",
       "      <td>285</td>\n",
       "      <td>3</td>\n",
       "      <td>5</td>\n",
       "      <td>5</td>\n",
       "      <td>R$ 1.650.000</td>\n",
       "      <td>R$</td>\n",
       "      <td>1.650.000</td>\n",
       "      <td>None</td>\n",
       "    </tr>\n",
       "    <tr>\n",
       "      <th>9701</th>\n",
       "      <td>Rua Benito Juarez</td>\n",
       "      <td>Vila Mariana</td>\n",
       "      <td>São Paulo</td>\n",
       "      <td>171</td>\n",
       "      <td>3</td>\n",
       "      <td>2</td>\n",
       "      <td>4</td>\n",
       "      <td>R$ 1.650.000</td>\n",
       "      <td>R$</td>\n",
       "      <td>1.650.000</td>\n",
       "      <td>None</td>\n",
       "    </tr>\n",
       "    <tr>\n",
       "      <th>9737</th>\n",
       "      <td>Rua Benito Juarez</td>\n",
       "      <td>Vila Mariana</td>\n",
       "      <td>São Paulo</td>\n",
       "      <td>171</td>\n",
       "      <td>3</td>\n",
       "      <td>2</td>\n",
       "      <td>4</td>\n",
       "      <td>R$ 1.650.000</td>\n",
       "      <td>R$</td>\n",
       "      <td>1.650.000</td>\n",
       "      <td>None</td>\n",
       "    </tr>\n",
       "    <tr>\n",
       "      <th>9807</th>\n",
       "      <td>NaN</td>\n",
       "      <td>Vila Mariana</td>\n",
       "      <td>São Paulo</td>\n",
       "      <td>275</td>\n",
       "      <td>3</td>\n",
       "      <td>1</td>\n",
       "      <td>6</td>\n",
       "      <td>R$ 1.500.000</td>\n",
       "      <td>R$</td>\n",
       "      <td>1.500.000</td>\n",
       "      <td>None</td>\n",
       "    </tr>\n",
       "    <tr>\n",
       "      <th>9852</th>\n",
       "      <td>Rua França Pinto</td>\n",
       "      <td>Vila Mariana</td>\n",
       "      <td>São Paulo</td>\n",
       "      <td>280</td>\n",
       "      <td>3</td>\n",
       "      <td>3</td>\n",
       "      <td>4</td>\n",
       "      <td>R$ 1.600.000</td>\n",
       "      <td>R$</td>\n",
       "      <td>1.600.000</td>\n",
       "      <td>None</td>\n",
       "    </tr>\n",
       "  </tbody>\n",
       "</table>\n",
       "<p>184 rows × 11 columns</p>\n",
       "</div>"
      ],
      "text/plain": [
       "                               Rua        Bairro     Cidade  Metragem  \\\n",
       "100               Rua Pero Correia  Vila Mariana  São Paulo       250   \n",
       "120   Praça Doutor Carvalho Franco  Vila Mariana  São Paulo       250   \n",
       "155     Rua Professor João Marinho  Vila Mariana  São Paulo       170   \n",
       "160                            NaN  Vila Mariana  São Paulo       228   \n",
       "334         Rua Pero Correia, 892   Vila Mariana  São Paulo       350   \n",
       "...                            ...           ...        ...       ...   \n",
       "9645               Rua Sousa Ramos  Vila Mariana  São Paulo       285   \n",
       "9701             Rua Benito Juarez  Vila Mariana  São Paulo       171   \n",
       "9737             Rua Benito Juarez  Vila Mariana  São Paulo       171   \n",
       "9807                           NaN  Vila Mariana  São Paulo       275   \n",
       "9852              Rua França Pinto  Vila Mariana  São Paulo       280   \n",
       "\n",
       "      Quartos  Banheiros  Vagas         Valor Moeda Valor_anuncio Tipo_anuncio  \n",
       "100         3          3      1  R$ 1.350.000    R$     1.350.000         None  \n",
       "120         3          5      2  R$ 2.450.000    R$     2.450.000         None  \n",
       "155         3          4      2  R$ 1.490.000    R$     1.490.000         None  \n",
       "160         4          5      3  R$ 2.200.000    R$     2.200.000         None  \n",
       "334         6          4     10  R$ 1.700.000    R$     1.700.000         None  \n",
       "...       ...        ...    ...           ...   ...           ...          ...  \n",
       "9645        3          5      5  R$ 1.650.000    R$     1.650.000         None  \n",
       "9701        3          2      4  R$ 1.650.000    R$     1.650.000         None  \n",
       "9737        3          2      4  R$ 1.650.000    R$     1.650.000         None  \n",
       "9807        3          1      6  R$ 1.500.000    R$     1.500.000         None  \n",
       "9852        3          3      4  R$ 1.600.000    R$     1.600.000         None  \n",
       "\n",
       "[184 rows x 11 columns]"
      ]
     },
     "execution_count": 42,
     "metadata": {},
     "output_type": "execute_result"
    }
   ],
   "source": [
    "# 2 - Duas formas de selecionar os dados por bairro (consultar os métodos na documentação do Pandas). (Proposto pelo Thiago)\n",
    "\n",
    "# Query 1:\n",
    "tem_imoveis_vila = data['Bairro'] == 'Vila Mariana'\n",
    "data[tem_imoveis_vila]"
   ]
  },
  {
   "cell_type": "code",
   "execution_count": 43,
   "metadata": {},
   "outputs": [
    {
     "data": {
      "text/html": [
       "<div>\n",
       "<style scoped>\n",
       "    .dataframe tbody tr th:only-of-type {\n",
       "        vertical-align: middle;\n",
       "    }\n",
       "\n",
       "    .dataframe tbody tr th {\n",
       "        vertical-align: top;\n",
       "    }\n",
       "\n",
       "    .dataframe thead th {\n",
       "        text-align: right;\n",
       "    }\n",
       "</style>\n",
       "<table border=\"1\" class=\"dataframe\">\n",
       "  <thead>\n",
       "    <tr style=\"text-align: right;\">\n",
       "      <th></th>\n",
       "      <th>Rua</th>\n",
       "      <th>Bairro</th>\n",
       "      <th>Cidade</th>\n",
       "      <th>Metragem</th>\n",
       "      <th>Quartos</th>\n",
       "      <th>Banheiros</th>\n",
       "      <th>Vagas</th>\n",
       "      <th>Valor</th>\n",
       "      <th>Moeda</th>\n",
       "      <th>Valor_anuncio</th>\n",
       "      <th>Tipo_anuncio</th>\n",
       "    </tr>\n",
       "  </thead>\n",
       "  <tbody>\n",
       "    <tr>\n",
       "      <th>100</th>\n",
       "      <td>Rua Pero Correia</td>\n",
       "      <td>Vila Mariana</td>\n",
       "      <td>São Paulo</td>\n",
       "      <td>250</td>\n",
       "      <td>3</td>\n",
       "      <td>3</td>\n",
       "      <td>1</td>\n",
       "      <td>R$ 1.350.000</td>\n",
       "      <td>R$</td>\n",
       "      <td>1.350.000</td>\n",
       "      <td>None</td>\n",
       "    </tr>\n",
       "    <tr>\n",
       "      <th>120</th>\n",
       "      <td>Praça Doutor Carvalho Franco</td>\n",
       "      <td>Vila Mariana</td>\n",
       "      <td>São Paulo</td>\n",
       "      <td>250</td>\n",
       "      <td>3</td>\n",
       "      <td>5</td>\n",
       "      <td>2</td>\n",
       "      <td>R$ 2.450.000</td>\n",
       "      <td>R$</td>\n",
       "      <td>2.450.000</td>\n",
       "      <td>None</td>\n",
       "    </tr>\n",
       "    <tr>\n",
       "      <th>155</th>\n",
       "      <td>Rua Professor João Marinho</td>\n",
       "      <td>Vila Mariana</td>\n",
       "      <td>São Paulo</td>\n",
       "      <td>170</td>\n",
       "      <td>3</td>\n",
       "      <td>4</td>\n",
       "      <td>2</td>\n",
       "      <td>R$ 1.490.000</td>\n",
       "      <td>R$</td>\n",
       "      <td>1.490.000</td>\n",
       "      <td>None</td>\n",
       "    </tr>\n",
       "    <tr>\n",
       "      <th>160</th>\n",
       "      <td>NaN</td>\n",
       "      <td>Vila Mariana</td>\n",
       "      <td>São Paulo</td>\n",
       "      <td>228</td>\n",
       "      <td>4</td>\n",
       "      <td>5</td>\n",
       "      <td>3</td>\n",
       "      <td>R$ 2.200.000</td>\n",
       "      <td>R$</td>\n",
       "      <td>2.200.000</td>\n",
       "      <td>None</td>\n",
       "    </tr>\n",
       "    <tr>\n",
       "      <th>334</th>\n",
       "      <td>Rua Pero Correia, 892</td>\n",
       "      <td>Vila Mariana</td>\n",
       "      <td>São Paulo</td>\n",
       "      <td>350</td>\n",
       "      <td>6</td>\n",
       "      <td>4</td>\n",
       "      <td>10</td>\n",
       "      <td>R$ 1.700.000</td>\n",
       "      <td>R$</td>\n",
       "      <td>1.700.000</td>\n",
       "      <td>None</td>\n",
       "    </tr>\n",
       "    <tr>\n",
       "      <th>...</th>\n",
       "      <td>...</td>\n",
       "      <td>...</td>\n",
       "      <td>...</td>\n",
       "      <td>...</td>\n",
       "      <td>...</td>\n",
       "      <td>...</td>\n",
       "      <td>...</td>\n",
       "      <td>...</td>\n",
       "      <td>...</td>\n",
       "      <td>...</td>\n",
       "      <td>...</td>\n",
       "    </tr>\n",
       "    <tr>\n",
       "      <th>9645</th>\n",
       "      <td>Rua Sousa Ramos</td>\n",
       "      <td>Vila Mariana</td>\n",
       "      <td>São Paulo</td>\n",
       "      <td>285</td>\n",
       "      <td>3</td>\n",
       "      <td>5</td>\n",
       "      <td>5</td>\n",
       "      <td>R$ 1.650.000</td>\n",
       "      <td>R$</td>\n",
       "      <td>1.650.000</td>\n",
       "      <td>None</td>\n",
       "    </tr>\n",
       "    <tr>\n",
       "      <th>9701</th>\n",
       "      <td>Rua Benito Juarez</td>\n",
       "      <td>Vila Mariana</td>\n",
       "      <td>São Paulo</td>\n",
       "      <td>171</td>\n",
       "      <td>3</td>\n",
       "      <td>2</td>\n",
       "      <td>4</td>\n",
       "      <td>R$ 1.650.000</td>\n",
       "      <td>R$</td>\n",
       "      <td>1.650.000</td>\n",
       "      <td>None</td>\n",
       "    </tr>\n",
       "    <tr>\n",
       "      <th>9737</th>\n",
       "      <td>Rua Benito Juarez</td>\n",
       "      <td>Vila Mariana</td>\n",
       "      <td>São Paulo</td>\n",
       "      <td>171</td>\n",
       "      <td>3</td>\n",
       "      <td>2</td>\n",
       "      <td>4</td>\n",
       "      <td>R$ 1.650.000</td>\n",
       "      <td>R$</td>\n",
       "      <td>1.650.000</td>\n",
       "      <td>None</td>\n",
       "    </tr>\n",
       "    <tr>\n",
       "      <th>9807</th>\n",
       "      <td>NaN</td>\n",
       "      <td>Vila Mariana</td>\n",
       "      <td>São Paulo</td>\n",
       "      <td>275</td>\n",
       "      <td>3</td>\n",
       "      <td>1</td>\n",
       "      <td>6</td>\n",
       "      <td>R$ 1.500.000</td>\n",
       "      <td>R$</td>\n",
       "      <td>1.500.000</td>\n",
       "      <td>None</td>\n",
       "    </tr>\n",
       "    <tr>\n",
       "      <th>9852</th>\n",
       "      <td>Rua França Pinto</td>\n",
       "      <td>Vila Mariana</td>\n",
       "      <td>São Paulo</td>\n",
       "      <td>280</td>\n",
       "      <td>3</td>\n",
       "      <td>3</td>\n",
       "      <td>4</td>\n",
       "      <td>R$ 1.600.000</td>\n",
       "      <td>R$</td>\n",
       "      <td>1.600.000</td>\n",
       "      <td>None</td>\n",
       "    </tr>\n",
       "  </tbody>\n",
       "</table>\n",
       "<p>184 rows × 11 columns</p>\n",
       "</div>"
      ],
      "text/plain": [
       "                               Rua        Bairro     Cidade  Metragem  \\\n",
       "100               Rua Pero Correia  Vila Mariana  São Paulo       250   \n",
       "120   Praça Doutor Carvalho Franco  Vila Mariana  São Paulo       250   \n",
       "155     Rua Professor João Marinho  Vila Mariana  São Paulo       170   \n",
       "160                            NaN  Vila Mariana  São Paulo       228   \n",
       "334         Rua Pero Correia, 892   Vila Mariana  São Paulo       350   \n",
       "...                            ...           ...        ...       ...   \n",
       "9645               Rua Sousa Ramos  Vila Mariana  São Paulo       285   \n",
       "9701             Rua Benito Juarez  Vila Mariana  São Paulo       171   \n",
       "9737             Rua Benito Juarez  Vila Mariana  São Paulo       171   \n",
       "9807                           NaN  Vila Mariana  São Paulo       275   \n",
       "9852              Rua França Pinto  Vila Mariana  São Paulo       280   \n",
       "\n",
       "      Quartos  Banheiros  Vagas         Valor Moeda Valor_anuncio Tipo_anuncio  \n",
       "100         3          3      1  R$ 1.350.000    R$     1.350.000         None  \n",
       "120         3          5      2  R$ 2.450.000    R$     2.450.000         None  \n",
       "155         3          4      2  R$ 1.490.000    R$     1.490.000         None  \n",
       "160         4          5      3  R$ 2.200.000    R$     2.200.000         None  \n",
       "334         6          4     10  R$ 1.700.000    R$     1.700.000         None  \n",
       "...       ...        ...    ...           ...   ...           ...          ...  \n",
       "9645        3          5      5  R$ 1.650.000    R$     1.650.000         None  \n",
       "9701        3          2      4  R$ 1.650.000    R$     1.650.000         None  \n",
       "9737        3          2      4  R$ 1.650.000    R$     1.650.000         None  \n",
       "9807        3          1      6  R$ 1.500.000    R$     1.500.000         None  \n",
       "9852        3          3      4  R$ 1.600.000    R$     1.600.000         None  \n",
       "\n",
       "[184 rows x 11 columns]"
      ]
     },
     "execution_count": 43,
     "metadata": {},
     "output_type": "execute_result"
    }
   ],
   "source": [
    "# Query 2:\n",
    "data[data['Bairro'] == 'Vila Mariana']"
   ]
  },
  {
   "cell_type": "code",
   "execution_count": 44,
   "metadata": {},
   "outputs": [
    {
     "data": {
      "text/html": [
       "<div>\n",
       "<style scoped>\n",
       "    .dataframe tbody tr th:only-of-type {\n",
       "        vertical-align: middle;\n",
       "    }\n",
       "\n",
       "    .dataframe tbody tr th {\n",
       "        vertical-align: top;\n",
       "    }\n",
       "\n",
       "    .dataframe thead th {\n",
       "        text-align: right;\n",
       "    }\n",
       "</style>\n",
       "<table border=\"1\" class=\"dataframe\">\n",
       "  <thead>\n",
       "    <tr style=\"text-align: right;\">\n",
       "      <th></th>\n",
       "      <th>Rua</th>\n",
       "      <th>Bairro</th>\n",
       "      <th>Cidade</th>\n",
       "      <th>Metragem</th>\n",
       "      <th>Quartos</th>\n",
       "      <th>Banheiros</th>\n",
       "      <th>Vagas</th>\n",
       "      <th>Valor</th>\n",
       "      <th>Moeda</th>\n",
       "      <th>Valor_anuncio</th>\n",
       "      <th>Tipo_anuncio</th>\n",
       "    </tr>\n",
       "  </thead>\n",
       "  <tbody>\n",
       "    <tr>\n",
       "      <th>100</th>\n",
       "      <td>Rua Pero Correia</td>\n",
       "      <td>Vila Mariana</td>\n",
       "      <td>São Paulo</td>\n",
       "      <td>250</td>\n",
       "      <td>3</td>\n",
       "      <td>3</td>\n",
       "      <td>1</td>\n",
       "      <td>R$ 1.350.000</td>\n",
       "      <td>R$</td>\n",
       "      <td>1.350.000</td>\n",
       "      <td>None</td>\n",
       "    </tr>\n",
       "    <tr>\n",
       "      <th>120</th>\n",
       "      <td>Praça Doutor Carvalho Franco</td>\n",
       "      <td>Vila Mariana</td>\n",
       "      <td>São Paulo</td>\n",
       "      <td>250</td>\n",
       "      <td>3</td>\n",
       "      <td>5</td>\n",
       "      <td>2</td>\n",
       "      <td>R$ 2.450.000</td>\n",
       "      <td>R$</td>\n",
       "      <td>2.450.000</td>\n",
       "      <td>None</td>\n",
       "    </tr>\n",
       "    <tr>\n",
       "      <th>155</th>\n",
       "      <td>Rua Professor João Marinho</td>\n",
       "      <td>Vila Mariana</td>\n",
       "      <td>São Paulo</td>\n",
       "      <td>170</td>\n",
       "      <td>3</td>\n",
       "      <td>4</td>\n",
       "      <td>2</td>\n",
       "      <td>R$ 1.490.000</td>\n",
       "      <td>R$</td>\n",
       "      <td>1.490.000</td>\n",
       "      <td>None</td>\n",
       "    </tr>\n",
       "    <tr>\n",
       "      <th>160</th>\n",
       "      <td>NaN</td>\n",
       "      <td>Vila Mariana</td>\n",
       "      <td>São Paulo</td>\n",
       "      <td>228</td>\n",
       "      <td>4</td>\n",
       "      <td>5</td>\n",
       "      <td>3</td>\n",
       "      <td>R$ 2.200.000</td>\n",
       "      <td>R$</td>\n",
       "      <td>2.200.000</td>\n",
       "      <td>None</td>\n",
       "    </tr>\n",
       "    <tr>\n",
       "      <th>334</th>\n",
       "      <td>Rua Pero Correia, 892</td>\n",
       "      <td>Vila Mariana</td>\n",
       "      <td>São Paulo</td>\n",
       "      <td>350</td>\n",
       "      <td>6</td>\n",
       "      <td>4</td>\n",
       "      <td>10</td>\n",
       "      <td>R$ 1.700.000</td>\n",
       "      <td>R$</td>\n",
       "      <td>1.700.000</td>\n",
       "      <td>None</td>\n",
       "    </tr>\n",
       "    <tr>\n",
       "      <th>...</th>\n",
       "      <td>...</td>\n",
       "      <td>...</td>\n",
       "      <td>...</td>\n",
       "      <td>...</td>\n",
       "      <td>...</td>\n",
       "      <td>...</td>\n",
       "      <td>...</td>\n",
       "      <td>...</td>\n",
       "      <td>...</td>\n",
       "      <td>...</td>\n",
       "      <td>...</td>\n",
       "    </tr>\n",
       "    <tr>\n",
       "      <th>9645</th>\n",
       "      <td>Rua Sousa Ramos</td>\n",
       "      <td>Vila Mariana</td>\n",
       "      <td>São Paulo</td>\n",
       "      <td>285</td>\n",
       "      <td>3</td>\n",
       "      <td>5</td>\n",
       "      <td>5</td>\n",
       "      <td>R$ 1.650.000</td>\n",
       "      <td>R$</td>\n",
       "      <td>1.650.000</td>\n",
       "      <td>None</td>\n",
       "    </tr>\n",
       "    <tr>\n",
       "      <th>9701</th>\n",
       "      <td>Rua Benito Juarez</td>\n",
       "      <td>Vila Mariana</td>\n",
       "      <td>São Paulo</td>\n",
       "      <td>171</td>\n",
       "      <td>3</td>\n",
       "      <td>2</td>\n",
       "      <td>4</td>\n",
       "      <td>R$ 1.650.000</td>\n",
       "      <td>R$</td>\n",
       "      <td>1.650.000</td>\n",
       "      <td>None</td>\n",
       "    </tr>\n",
       "    <tr>\n",
       "      <th>9737</th>\n",
       "      <td>Rua Benito Juarez</td>\n",
       "      <td>Vila Mariana</td>\n",
       "      <td>São Paulo</td>\n",
       "      <td>171</td>\n",
       "      <td>3</td>\n",
       "      <td>2</td>\n",
       "      <td>4</td>\n",
       "      <td>R$ 1.650.000</td>\n",
       "      <td>R$</td>\n",
       "      <td>1.650.000</td>\n",
       "      <td>None</td>\n",
       "    </tr>\n",
       "    <tr>\n",
       "      <th>9807</th>\n",
       "      <td>NaN</td>\n",
       "      <td>Vila Mariana</td>\n",
       "      <td>São Paulo</td>\n",
       "      <td>275</td>\n",
       "      <td>3</td>\n",
       "      <td>1</td>\n",
       "      <td>6</td>\n",
       "      <td>R$ 1.500.000</td>\n",
       "      <td>R$</td>\n",
       "      <td>1.500.000</td>\n",
       "      <td>None</td>\n",
       "    </tr>\n",
       "    <tr>\n",
       "      <th>9852</th>\n",
       "      <td>Rua França Pinto</td>\n",
       "      <td>Vila Mariana</td>\n",
       "      <td>São Paulo</td>\n",
       "      <td>280</td>\n",
       "      <td>3</td>\n",
       "      <td>3</td>\n",
       "      <td>4</td>\n",
       "      <td>R$ 1.600.000</td>\n",
       "      <td>R$</td>\n",
       "      <td>1.600.000</td>\n",
       "      <td>None</td>\n",
       "    </tr>\n",
       "  </tbody>\n",
       "</table>\n",
       "<p>184 rows × 11 columns</p>\n",
       "</div>"
      ],
      "text/plain": [
       "                               Rua        Bairro     Cidade  Metragem  \\\n",
       "100               Rua Pero Correia  Vila Mariana  São Paulo       250   \n",
       "120   Praça Doutor Carvalho Franco  Vila Mariana  São Paulo       250   \n",
       "155     Rua Professor João Marinho  Vila Mariana  São Paulo       170   \n",
       "160                            NaN  Vila Mariana  São Paulo       228   \n",
       "334         Rua Pero Correia, 892   Vila Mariana  São Paulo       350   \n",
       "...                            ...           ...        ...       ...   \n",
       "9645               Rua Sousa Ramos  Vila Mariana  São Paulo       285   \n",
       "9701             Rua Benito Juarez  Vila Mariana  São Paulo       171   \n",
       "9737             Rua Benito Juarez  Vila Mariana  São Paulo       171   \n",
       "9807                           NaN  Vila Mariana  São Paulo       275   \n",
       "9852              Rua França Pinto  Vila Mariana  São Paulo       280   \n",
       "\n",
       "      Quartos  Banheiros  Vagas         Valor Moeda Valor_anuncio Tipo_anuncio  \n",
       "100         3          3      1  R$ 1.350.000    R$     1.350.000         None  \n",
       "120         3          5      2  R$ 2.450.000    R$     2.450.000         None  \n",
       "155         3          4      2  R$ 1.490.000    R$     1.490.000         None  \n",
       "160         4          5      3  R$ 2.200.000    R$     2.200.000         None  \n",
       "334         6          4     10  R$ 1.700.000    R$     1.700.000         None  \n",
       "...       ...        ...    ...           ...   ...           ...          ...  \n",
       "9645        3          5      5  R$ 1.650.000    R$     1.650.000         None  \n",
       "9701        3          2      4  R$ 1.650.000    R$     1.650.000         None  \n",
       "9737        3          2      4  R$ 1.650.000    R$     1.650.000         None  \n",
       "9807        3          1      6  R$ 1.500.000    R$     1.500.000         None  \n",
       "9852        3          3      4  R$ 1.600.000    R$     1.600.000         None  \n",
       "\n",
       "[184 rows x 11 columns]"
      ]
     },
     "execution_count": 44,
     "metadata": {},
     "output_type": "execute_result"
    }
   ],
   "source": [
    "# Query 3:\n",
    "data.query(\"Bairro == 'Vila Mariana'\")"
   ]
  }
 ],
 "metadata": {
  "interpreter": {
   "hash": "f7427388b2d1b88eeccd5ebbeeb6e6c3451df4d39a8abf26191491d090007fea"
  },
  "kernelspec": {
   "display_name": "Python 3.9.10 64-bit",
   "language": "python",
   "name": "python3"
  },
  "language_info": {
   "codemirror_mode": {
    "name": "ipython",
    "version": 3
   },
   "file_extension": ".py",
   "mimetype": "text/x-python",
   "name": "python",
   "nbconvert_exporter": "python",
   "pygments_lexer": "ipython3",
   "version": "3.9.10"
  },
  "orig_nbformat": 4
 },
 "nbformat": 4,
 "nbformat_minor": 2
}
